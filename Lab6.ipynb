{
 "cells": [
  {
   "cell_type": "markdown",
   "id": "b992ca44-75ef-4c4b-b80b-5a2d1037ac96",
   "metadata": {},
   "source": [
    "# Classification with SVM's"
   ]
  },
  {
   "cell_type": "markdown",
   "id": "ecfe04b6-6d59-46be-ac21-127d50fb9655",
   "metadata": {},
   "source": [
    "## Download the Iris dataset from sklearn"
   ]
  },
  {
   "cell_type": "markdown",
   "id": "a210a8c8-8736-41bb-a90e-d98e2d128d88",
   "metadata": {},
   "source": [
    "# Prepare data for 2d experiments and plots"
   ]
  },
  {
   "cell_type": "markdown",
   "id": "2fb2dbd1-92a3-4c72-bb60-2b12a697dc69",
   "metadata": {},
   "source": [
    "## Split your data into a training and test set using train_test_split from sklearn and set stratify=y"
   ]
  },
  {
   "cell_type": "markdown",
   "id": "37f6e5a1-76d3-4b35-8319-790b15ee8428",
   "metadata": {},
   "source": [
    "## You will be grabbing 2 features from the dataset (You can use any of the feature selection methods you learnt in class)\n",
    "Hint: I used chi-square feature selection because it is easy, fast and gave the same results as recursive feature elimination in previous labs"
   ]
  },
  {
   "cell_type": "markdown",
   "id": "d1dc95cc-26f7-4bc1-abfd-4ec97408676d",
   "metadata": {},
   "source": [
    "### Show which features were selected"
   ]
  },
  {
   "cell_type": "markdown",
   "id": "99f85925-cf56-4ac7-8815-16e9e0f0210a",
   "metadata": {},
   "source": [
    "## Use StandardScaler to feature scale your data (If you are using chi-squared, you will want to do this after you have selected your features)"
   ]
  },
  {
   "cell_type": "markdown",
   "id": "b9badb07-6f95-474a-a119-eb945ba4335e",
   "metadata": {},
   "source": [
    "# Prepare data for 3d experiments and plots"
   ]
  },
  {
   "cell_type": "markdown",
   "id": "e511f5ee-25f1-4f96-9a3c-0377313c986c",
   "metadata": {},
   "source": [
    "## Grab the first 3 features in your datsset and change to binary classification problem \n",
    "- You will have to make the problem a binary classifiation problem\n",
    "  - This will be done by grabbing Only labels with 0 or 1. We will be completely ignoring class 2"
   ]
  },
  {
   "cell_type": "markdown",
   "id": "086bb73c-4c8a-448c-90e3-91fa71a59835",
   "metadata": {},
   "source": [
    "## Split the data into a training and testing dataset using train_test_split from sklearn and set stratify=y (In this case remember y is your binary version of y which has only 2 labels 0 and 1)"
   ]
  },
  {
   "cell_type": "markdown",
   "id": "e0500136-13f2-4904-8cdc-61d436d4a36e",
   "metadata": {},
   "source": [
    "## Train, predict and plot svm on 2d prepared data with the following configuration:\n",
    "\n",
    "- kernel=\"linear\", C=1.0"
   ]
  },
  {
   "cell_type": "markdown",
   "id": "03ba29eb-6cc1-47ff-8969-84a271454c26",
   "metadata": {},
   "source": [
    "### Calculate the accuracy and hinge loss on the training set"
   ]
  },
  {
   "cell_type": "markdown",
   "id": "d943144f-c16c-47d5-bcab-4bddf6d69e13",
   "metadata": {},
   "source": [
    "### Calculate the accuracy and hinge loss on the testing set"
   ]
  },
  {
   "cell_type": "markdown",
   "id": "8764aa9d-6ac9-488b-ac33-5614a5d9ddb1",
   "metadata": {},
   "source": [
    "### Plot the decision boundary with each point colored with its groundtruth class in 2D\n",
    "- encircle your support vectors"
   ]
  },
  {
   "cell_type": "markdown",
   "id": "9275a5b7-4e2d-4f37-b6a9-a58cb0e9f4d9",
   "metadata": {},
   "source": [
    "## Train, predict and plot svm on 3d prepared data with the following configuration:\n",
    "\n",
    "- kernel=\"linear\", C=1.0"
   ]
  },
  {
   "cell_type": "markdown",
   "id": "3873a63d-a571-41ad-b7ce-e4bde3470221",
   "metadata": {},
   "source": [
    "### Plot 3D graph using binary training data with hyperplane separating the 2 points\n",
    "    - Hint: You should have the plane perfectly seperating 2 classes"
   ]
  },
  {
   "cell_type": "markdown",
   "id": "824462d2-79db-4bf2-ad6e-266a377d51ef",
   "metadata": {},
   "source": [
    "### Get the accuracy and hinge loss of the testing set"
   ]
  },
  {
   "cell_type": "markdown",
   "id": "b6f250b8-109c-4526-9878-26e28cc86743",
   "metadata": {},
   "source": [
    "## Train, predict and plot svm on 2d prepared data with the following configuration:\n",
    "\n",
    "- kernel=\"linear\", C=100000"
   ]
  },
  {
   "cell_type": "markdown",
   "id": "9edc6448-afc9-4324-920e-f8408754f7c6",
   "metadata": {},
   "source": [
    "### Calculate the accuracy and hinge loss on the training set"
   ]
  },
  {
   "cell_type": "markdown",
   "id": "fee4e187-93e3-46a4-a454-5c0f6fc2f2e1",
   "metadata": {},
   "source": [
    "### Calculate the accuracy and hinge loss on the testing set"
   ]
  },
  {
   "cell_type": "markdown",
   "id": "5e0908cd-462e-44c5-a5e0-32d234d93bba",
   "metadata": {},
   "source": [
    "### Plot the decision boundary with each point colored with its groundtruth class in 2D\n",
    "- encircle your support vectors"
   ]
  },
  {
   "cell_type": "markdown",
   "id": "4c99a9f0-5d9e-4024-aea7-ea464cef9fad",
   "metadata": {},
   "source": [
    "## Train, predict and plot svm on 3d prepared data with the following configuration:\n",
    "\n",
    "- kernel=\"linear\", C=100000"
   ]
  },
  {
   "cell_type": "markdown",
   "id": "88dd73b7-f2ba-4d4b-a5c1-0541d7d0474f",
   "metadata": {},
   "source": [
    "### Plot 3D graph using binary training data with hyperplane separating the 2 points\n",
    "    - Hint: You should have the plane perfectly seperating 2 classes"
   ]
  },
  {
   "cell_type": "markdown",
   "id": "8ca7a854-8e87-4c82-9f58-502f1cc74146",
   "metadata": {},
   "source": [
    "### Get the accuracy and hinge loss of the testing set"
   ]
  },
  {
   "cell_type": "markdown",
   "id": "18f369a9-fa7d-4c5c-8eb0-1571f8ce305c",
   "metadata": {},
   "source": [
    "## Train, predict and plot svm on 2d prepared data with the following configuration:\n",
    "\n",
    "- kernel=\"linear\", C=0.0001"
   ]
  },
  {
   "cell_type": "markdown",
   "id": "dfdc2cee-a590-441c-b1f8-1907da23c157",
   "metadata": {},
   "source": [
    "### Calculate the accuracy and hinge loss on the training set"
   ]
  },
  {
   "cell_type": "markdown",
   "id": "0a1d8b45-72a3-480a-9efe-39446fe302cf",
   "metadata": {},
   "source": [
    "### Calculate the accuracy and hinge loss on the testing set"
   ]
  },
  {
   "cell_type": "markdown",
   "id": "1dc5a493-0077-429b-b5e8-21019e2a4caf",
   "metadata": {},
   "source": [
    "### Plot the decision boundary with each point colored with its groundtruth class in 2D\n",
    "- encircle your support vectors"
   ]
  },
  {
   "cell_type": "markdown",
   "id": "e6f443bd-4d05-43c7-8464-7ebb89c1d906",
   "metadata": {},
   "source": [
    "## Train, predict and plot svm on 3d prepared data with the following configuration:\n",
    "\n",
    "- kernel=\"linear\", C=0.0001"
   ]
  },
  {
   "cell_type": "markdown",
   "id": "c919b0c9-a539-40a8-8184-6e751b4d2ac3",
   "metadata": {},
   "source": [
    "### Plot 3D graph using binary training data with hyperplane separating the 2 points\n",
    "    - Hint: You will hot have a plane perfectly seperating the data because it is underfit"
   ]
  },
  {
   "cell_type": "markdown",
   "id": "fac232cf-77d9-473b-a883-82ea88e32fff",
   "metadata": {},
   "source": [
    "### Get the accuracy and hinge loss of the testing set"
   ]
  },
  {
   "cell_type": "markdown",
   "id": "95f6fe2d-0740-417f-85b6-7f5856400041",
   "metadata": {},
   "source": [
    "## Train, predict and plot svm on 2d prepared data with the following configuration:\n",
    "\n",
    "- kernel=\"poly\", C=1.0, degree=2, coef0=0.0, gamma=\"scale\""
   ]
  },
  {
   "cell_type": "markdown",
   "id": "c0b4a033-1ded-4bff-aa09-6e3a42d3ff25",
   "metadata": {},
   "source": [
    "### Calculate the accuracy and hinge loss on the training set"
   ]
  },
  {
   "cell_type": "markdown",
   "id": "4c22aa5a-6bbd-412e-83e9-10d5be769f08",
   "metadata": {},
   "source": [
    "### Calculate the accuracy and hinge loss on the testing set"
   ]
  },
  {
   "cell_type": "markdown",
   "id": "580ce154-ae0f-4ccf-a16a-d1a900185908",
   "metadata": {},
   "source": [
    "### Plot the decision boundary with each point colored with its groundtruth class in 2D\n",
    "- encircle your support vectors"
   ]
  },
  {
   "cell_type": "markdown",
   "id": "6b65ce20-530f-4d3c-8e98-a58d5197ead6",
   "metadata": {},
   "source": [
    "## Train, predict and plot svm on 2d prepared data with the following configuration:\n",
    "\n",
    "- kernel=\"poly\", C=1.0, degree=3, coef0=0.0, gamma=\"scale\""
   ]
  },
  {
   "cell_type": "markdown",
   "id": "4db26c5f-1374-4580-935b-eca5197ef285",
   "metadata": {},
   "source": [
    "### Calculate the accuracy and hinge loss on the training set"
   ]
  },
  {
   "cell_type": "markdown",
   "id": "551c198b-61d7-4e8f-b205-57f84dfa33b8",
   "metadata": {},
   "source": [
    "### Calculate the accuracy and hinge loss on the testing set"
   ]
  },
  {
   "cell_type": "markdown",
   "id": "a2cd4fd6-f071-49e1-b43c-16e0e18b3aa8",
   "metadata": {},
   "source": [
    "### Plot the decision boundary with each point colored with its groundtruth class in 2D\n",
    "- encircle your support vectors"
   ]
  },
  {
   "cell_type": "markdown",
   "id": "e525d3e6-4b92-492f-9d75-51d5e8f06619",
   "metadata": {},
   "source": [
    "## Train, predict and plot svm on 2d prepared data with the following configuration:\n",
    "\n",
    "- kernel=\"rbf\", C=1.0, gamma=\"scale\""
   ]
  },
  {
   "cell_type": "markdown",
   "id": "3b434f4b-96fd-49bb-90cc-aef3d46a2e64",
   "metadata": {},
   "source": [
    "### Calculate the accuracy and hinge loss on the training set"
   ]
  },
  {
   "cell_type": "markdown",
   "id": "8623b095-37df-4143-914e-68c93b64ac5d",
   "metadata": {},
   "source": [
    "### Calculate the accuracy and hinge loss on the testing set"
   ]
  },
  {
   "cell_type": "markdown",
   "id": "f9362cf6-f01b-45cb-a5b0-5d33161400e3",
   "metadata": {},
   "source": [
    "### Plot the decision boundary with each point colored with its groundtruth class in 2D\n",
    "- encircle your support vectors"
   ]
  }
 ],
 "metadata": {
  "kernelspec": {
   "display_name": "Python 3 (ipykernel)",
   "language": "python",
   "name": "python3"
  },
  "language_info": {
   "codemirror_mode": {
    "name": "ipython",
    "version": 3
   },
   "file_extension": ".py",
   "mimetype": "text/x-python",
   "name": "python",
   "nbconvert_exporter": "python",
   "pygments_lexer": "ipython3",
   "version": "3.9.7"
  }
 },
 "nbformat": 4,
 "nbformat_minor": 5
}
