{
 "cells": [
  {
   "cell_type": "markdown",
   "id": "fb5ecab4-f52c-4182-9463-62861a14de9f",
   "metadata": {
    "tags": []
   },
   "source": [
    "# Lab 6: Support Vector Machines (SVM's)"
   ]
  },
  {
   "cell_type": "markdown",
   "id": "60a6c168-5475-4d84-9d44-c093fe4aa490",
   "metadata": {
    "tags": []
   },
   "source": [
    "## By Yuri Henrique Galvao - Student # 3151850"
   ]
  },
  {
   "cell_type": "markdown",
   "id": "ce539cc4-3f04-470a-adf3-42121850f4ff",
   "metadata": {
    "tags": []
   },
   "source": [
    "## Importing the necessary packages and modules"
   ]
  },
  {
   "cell_type": "code",
   "execution_count": null,
   "id": "09a565b0-bccf-4a89-8273-c332cd134dd2",
   "metadata": {},
   "outputs": [],
   "source": []
  },
  {
   "cell_type": "code",
   "execution_count": 1,
   "id": "72716720-205f-48e8-aee5-cbb0680c72f2",
   "metadata": {
    "tags": []
   },
   "outputs": [],
   "source": [
    "import pandas as pd\n",
    "import numpy as np\n",
    "import sklearn as sk\n",
    "import matplotlib.pyplot as plt\n",
    "import seaborn as sns\n",
    "import copy\n",
    "from mpl_toolkits.mplot3d import Axes3D\n",
    "from sklearn.datasets import load_iris\n",
    "from sklearn.svm import SVC\n",
    "from sklearn.model_selection import train_test_split\n",
    "from sklearn.metrics import hinge_loss, accuracy_score, confusion_matrix, ConfusionMatrixDisplay\n",
    "from sklearn.feature_selection import r_regression, SelectKBest\n",
    "from sklearn.preprocessing import StandardScaler"
   ]
  },
  {
   "cell_type": "markdown",
   "id": "b992ca44-75ef-4c4b-b80b-5a2d1037ac96",
   "metadata": {},
   "source": [
    "# Classification with SVM's"
   ]
  },
  {
   "cell_type": "markdown",
   "id": "ecfe04b6-6d59-46be-ac21-127d50fb9655",
   "metadata": {},
   "source": [
    "## Download the Iris dataset from sklearn"
   ]
  },
  {
   "cell_type": "markdown",
   "id": "edbde7f1-56a9-4d1a-90ab-84b1eb26c6a8",
   "metadata": {},
   "source": [
    "We will be using the ***Iris dataset*** from sklearn"
   ]
  },
  {
   "cell_type": "code",
   "execution_count": 2,
   "id": "3b5f6c7c-0f70-491e-89e5-dc559370001f",
   "metadata": {},
   "outputs": [
    {
     "data": {
      "text/html": [
       "<div>\n",
       "<style scoped>\n",
       "    .dataframe tbody tr th:only-of-type {\n",
       "        vertical-align: middle;\n",
       "    }\n",
       "\n",
       "    .dataframe tbody tr th {\n",
       "        vertical-align: top;\n",
       "    }\n",
       "\n",
       "    .dataframe thead th {\n",
       "        text-align: right;\n",
       "    }\n",
       "</style>\n",
       "<table border=\"1\" class=\"dataframe\">\n",
       "  <thead>\n",
       "    <tr style=\"text-align: right;\">\n",
       "      <th></th>\n",
       "      <th>sepal length (cm)</th>\n",
       "      <th>sepal width (cm)</th>\n",
       "      <th>petal length (cm)</th>\n",
       "      <th>petal width (cm)</th>\n",
       "      <th>target</th>\n",
       "    </tr>\n",
       "  </thead>\n",
       "  <tbody>\n",
       "    <tr>\n",
       "      <th>0</th>\n",
       "      <td>5.1</td>\n",
       "      <td>3.5</td>\n",
       "      <td>1.4</td>\n",
       "      <td>0.2</td>\n",
       "      <td>0</td>\n",
       "    </tr>\n",
       "    <tr>\n",
       "      <th>1</th>\n",
       "      <td>4.9</td>\n",
       "      <td>3.0</td>\n",
       "      <td>1.4</td>\n",
       "      <td>0.2</td>\n",
       "      <td>0</td>\n",
       "    </tr>\n",
       "    <tr>\n",
       "      <th>2</th>\n",
       "      <td>4.7</td>\n",
       "      <td>3.2</td>\n",
       "      <td>1.3</td>\n",
       "      <td>0.2</td>\n",
       "      <td>0</td>\n",
       "    </tr>\n",
       "    <tr>\n",
       "      <th>3</th>\n",
       "      <td>4.6</td>\n",
       "      <td>3.1</td>\n",
       "      <td>1.5</td>\n",
       "      <td>0.2</td>\n",
       "      <td>0</td>\n",
       "    </tr>\n",
       "    <tr>\n",
       "      <th>4</th>\n",
       "      <td>5.0</td>\n",
       "      <td>3.6</td>\n",
       "      <td>1.4</td>\n",
       "      <td>0.2</td>\n",
       "      <td>0</td>\n",
       "    </tr>\n",
       "    <tr>\n",
       "      <th>...</th>\n",
       "      <td>...</td>\n",
       "      <td>...</td>\n",
       "      <td>...</td>\n",
       "      <td>...</td>\n",
       "      <td>...</td>\n",
       "    </tr>\n",
       "    <tr>\n",
       "      <th>145</th>\n",
       "      <td>6.7</td>\n",
       "      <td>3.0</td>\n",
       "      <td>5.2</td>\n",
       "      <td>2.3</td>\n",
       "      <td>2</td>\n",
       "    </tr>\n",
       "    <tr>\n",
       "      <th>146</th>\n",
       "      <td>6.3</td>\n",
       "      <td>2.5</td>\n",
       "      <td>5.0</td>\n",
       "      <td>1.9</td>\n",
       "      <td>2</td>\n",
       "    </tr>\n",
       "    <tr>\n",
       "      <th>147</th>\n",
       "      <td>6.5</td>\n",
       "      <td>3.0</td>\n",
       "      <td>5.2</td>\n",
       "      <td>2.0</td>\n",
       "      <td>2</td>\n",
       "    </tr>\n",
       "    <tr>\n",
       "      <th>148</th>\n",
       "      <td>6.2</td>\n",
       "      <td>3.4</td>\n",
       "      <td>5.4</td>\n",
       "      <td>2.3</td>\n",
       "      <td>2</td>\n",
       "    </tr>\n",
       "    <tr>\n",
       "      <th>149</th>\n",
       "      <td>5.9</td>\n",
       "      <td>3.0</td>\n",
       "      <td>5.1</td>\n",
       "      <td>1.8</td>\n",
       "      <td>2</td>\n",
       "    </tr>\n",
       "  </tbody>\n",
       "</table>\n",
       "<p>150 rows × 5 columns</p>\n",
       "</div>"
      ],
      "text/plain": [
       "     sepal length (cm)  sepal width (cm)  petal length (cm)  petal width (cm)  \\\n",
       "0                  5.1               3.5                1.4               0.2   \n",
       "1                  4.9               3.0                1.4               0.2   \n",
       "2                  4.7               3.2                1.3               0.2   \n",
       "3                  4.6               3.1                1.5               0.2   \n",
       "4                  5.0               3.6                1.4               0.2   \n",
       "..                 ...               ...                ...               ...   \n",
       "145                6.7               3.0                5.2               2.3   \n",
       "146                6.3               2.5                5.0               1.9   \n",
       "147                6.5               3.0                5.2               2.0   \n",
       "148                6.2               3.4                5.4               2.3   \n",
       "149                5.9               3.0                5.1               1.8   \n",
       "\n",
       "     target  \n",
       "0         0  \n",
       "1         0  \n",
       "2         0  \n",
       "3         0  \n",
       "4         0  \n",
       "..      ...  \n",
       "145       2  \n",
       "146       2  \n",
       "147       2  \n",
       "148       2  \n",
       "149       2  \n",
       "\n",
       "[150 rows x 5 columns]"
      ]
     },
     "execution_count": 2,
     "metadata": {},
     "output_type": "execute_result"
    }
   ],
   "source": [
    "iris_df =  load_iris(as_frame=True).frame\n",
    "iris_df"
   ]
  },
  {
   "cell_type": "code",
   "execution_count": 3,
   "id": "d5ffc3ed-36fc-47cf-9737-fd93398287fc",
   "metadata": {},
   "outputs": [
    {
     "name": "stdout",
     "output_type": "stream",
     "text": [
      "<class 'pandas.core.frame.DataFrame'>\n",
      "RangeIndex: 150 entries, 0 to 149\n",
      "Data columns (total 5 columns):\n",
      " #   Column             Non-Null Count  Dtype  \n",
      "---  ------             --------------  -----  \n",
      " 0   sepal length (cm)  150 non-null    float64\n",
      " 1   sepal width (cm)   150 non-null    float64\n",
      " 2   petal length (cm)  150 non-null    float64\n",
      " 3   petal width (cm)   150 non-null    float64\n",
      " 4   target             150 non-null    int64  \n",
      "dtypes: float64(4), int64(1)\n",
      "memory usage: 6.0 KB\n"
     ]
    }
   ],
   "source": [
    "iris_df.info()"
   ]
  },
  {
   "cell_type": "code",
   "execution_count": 4,
   "id": "1d6692b6-617a-4a4a-b215-0b6f8f7eb2ad",
   "metadata": {},
   "outputs": [
    {
     "name": "stdout",
     "output_type": "stream",
     "text": [
      "<class 'numpy.ndarray'>\n",
      "<class 'numpy.ndarray'>\n"
     ]
    }
   ],
   "source": [
    "iris = load_iris()\n",
    "X_original = iris.data\n",
    "Y_original = iris.target\n",
    "print(type(X_original))\n",
    "print(type(Y_original))"
   ]
  },
  {
   "cell_type": "code",
   "execution_count": 5,
   "id": "32fdd4a7-386d-43cc-b980-2c9794625d67",
   "metadata": {},
   "outputs": [
    {
     "data": {
      "text/plain": [
       "(150, 4)"
      ]
     },
     "execution_count": 5,
     "metadata": {},
     "output_type": "execute_result"
    }
   ],
   "source": [
    "X_original.shape"
   ]
  },
  {
   "cell_type": "code",
   "execution_count": 6,
   "id": "63f30fdd-73f1-4b81-90ec-57a054e2eb13",
   "metadata": {},
   "outputs": [
    {
     "data": {
      "text/plain": [
       "(150,)"
      ]
     },
     "execution_count": 6,
     "metadata": {},
     "output_type": "execute_result"
    }
   ],
   "source": [
    "Y_original.shape"
   ]
  },
  {
   "cell_type": "markdown",
   "id": "a210a8c8-8736-41bb-a90e-d98e2d128d88",
   "metadata": {
    "tags": [],
    "toc-hr-collapsed": true
   },
   "source": [
    "# Prepare data for 2d experiments and plots"
   ]
  },
  {
   "cell_type": "markdown",
   "id": "2fb2dbd1-92a3-4c72-bb60-2b12a697dc69",
   "metadata": {},
   "source": [
    "## Split your data into a training and test set using train_test_split from sklearn and set stratify=y"
   ]
  },
  {
   "cell_type": "code",
   "execution_count": 7,
   "id": "c36fc0d0-e154-49cc-a9fa-5b0a060f24e7",
   "metadata": {},
   "outputs": [],
   "source": [
    "X_train, X_test, Y_train, Y_test = train_test_split(X_original, Y_original, test_size=0.25, random_state=0, stratify=Y_original)"
   ]
  },
  {
   "cell_type": "code",
   "execution_count": 8,
   "id": "8b27e4af-0611-4d6c-9f0a-0f2106cd7f58",
   "metadata": {},
   "outputs": [
    {
     "name": "stdout",
     "output_type": "stream",
     "text": [
      "Training examples target classes: \n",
      "[1 0 0 1 2 2 1 0 1 0 0 1 0 2 0 1 1 1 1 2 2 1 0 2 2 2 2 1 1 2 2 2 1 0 0 2 2\n",
      " 1 1 2 2 0 0 1 0 1 2 0 0 2 1 2 1 0 0 0 0 2 0 1 1 1 2 0 1 1 0 1 2 1 2 0 1 2\n",
      " 2 1 2 0 1 0 0 2 1 2 0 0 0 0 0 1 2 2 2 0 2 0 2 0 1 1 1 1 0 2 2 0 1 1 0 2 2\n",
      " 2]\n"
     ]
    }
   ],
   "source": [
    "print(f'''Training examples target classes: \n",
    "{Y_train}''')"
   ]
  },
  {
   "cell_type": "code",
   "execution_count": 9,
   "id": "6b03e3ba-b810-4e2d-afb5-603712e32da8",
   "metadata": {
    "tags": []
   },
   "outputs": [
    {
     "name": "stdout",
     "output_type": "stream",
     "text": [
      "Testing examples target classes:\n",
      "[0 0 0 0 1 1 1 0 1 2 2 2 1 2 1 0 0 2 0 1 2 1 1 0 2 0 0 1 2 1 0 1 2 2 0 1 2\n",
      " 2]\n"
     ]
    }
   ],
   "source": [
    "print(f'''Testing examples target classes:\n",
    "{Y_test}''')"
   ]
  },
  {
   "cell_type": "markdown",
   "id": "37f6e5a1-76d3-4b35-8319-790b15ee8428",
   "metadata": {
    "tags": []
   },
   "source": [
    "## You will be grabbing 2 features from the dataset (You can use any of the feature selection methods you learnt in class)\n",
    "Hint: I used chi-square feature selection because it is easy, fast and gave the same results as recursive feature elimination in previous labs"
   ]
  },
  {
   "cell_type": "markdown",
   "id": "8658f8d3-6615-459d-a117-7c378882b97c",
   "metadata": {},
   "source": [
    "### Feature selection\n",
    "#### Pearsons correlation\n",
    "##### Correlation matrix"
   ]
  },
  {
   "cell_type": "code",
   "execution_count": 10,
   "id": "56249666-2afb-40f1-bc2f-77521e97136b",
   "metadata": {},
   "outputs": [
    {
     "data": {
      "image/png": "[encoded data removed]",
      "text/plain": [
       "<Figure size 864x720 with 2 Axes>"
      ]
     },
     "metadata": {
      "needs_background": "light"
     },
     "output_type": "display_data"
    }
   ],
   "source": [
    "plt.figure(figsize=(12,10))\n",
    "cor = iris_df.corr()\n",
    "sns.heatmap(cor, annot=True, cmap=plt.cm.Reds)\n",
    "plt.show()"
   ]
  },
  {
   "cell_type": "code",
   "execution_count": 11,
   "id": "f8e70640-03a2-4ac2-b953-6d8a435c85b9",
   "metadata": {},
   "outputs": [],
   "source": [
    "selector = SelectKBest(r_regression, k=2).fit(X_train, Y_train)\n",
    "\n",
    "X_train_2d = selector.transform(X_train)\n",
    "X_test_2d = selector.transform(X_test)"
   ]
  },
  {
   "cell_type": "markdown",
   "id": "d1dc95cc-26f7-4bc1-abfd-4ec97408676d",
   "metadata": {},
   "source": [
    "### Show which features were selected"
   ]
  },
  {
   "cell_type": "code",
   "execution_count": 12,
   "id": "dfd1027e-4e2f-4907-84e6-0ac221121399",
   "metadata": {},
   "outputs": [],
   "source": [
    "cols = selector.get_support(indices=True)\n",
    "columns_names = [iris_df.columns[n] for n in cols]"
   ]
  },
  {
   "cell_type": "code",
   "execution_count": 13,
   "id": "e55e4be0-cfd8-44cc-840b-aa58555ccbed",
   "metadata": {},
   "outputs": [
    {
     "name": "stdout",
     "output_type": "stream",
     "text": [
      "These are the selected columns:\n",
      "\n",
      "petal length (cm)\n",
      "petal width (cm)\n"
     ]
    }
   ],
   "source": [
    "## Let's show the names of the selected columns\n",
    "print('These are the selected columns:\\n')\n",
    "for name in columns_names:\n",
    "    print(name)"
   ]
  },
  {
   "cell_type": "markdown",
   "id": "99f85925-cf56-4ac7-8815-16e9e0f0210a",
   "metadata": {},
   "source": [
    "## Use StandardScaler to feature scale your data (If you are using chi-squared, you will want to do this after you have selected your features)"
   ]
  },
  {
   "cell_type": "code",
   "execution_count": 14,
   "id": "4226cbdf-b649-4498-bb94-810af10a0300",
   "metadata": {},
   "outputs": [],
   "source": [
    "scaler = StandardScaler()\n",
    "scaler.fit(X_train_2d)\n",
    "X_train_fs_2d = scaler.transform(X_train_2d)\n",
    "X_test_fs_2d = scaler.transform(X_test_2d)"
   ]
  },
  {
   "cell_type": "code",
   "execution_count": 15,
   "id": "76ac2988-fa21-4671-908a-c850c463c254",
   "metadata": {
    "tags": []
   },
   "outputs": [
    {
     "data": {
      "text/plain": [
       "array([[-0.15148942, -0.27585067],\n",
       "       [-1.32740725, -1.32760471],\n",
       "       [-1.32740725, -1.32760471],\n",
       "       [-0.26348159, -0.27585067],\n",
       "       [ 0.40847146,  0.64443411],\n",
       "       [ 0.6884519 ,  0.90737262],\n",
       "       [ 0.35247537,  0.1185571 ],\n",
       "       [-1.38340334, -1.19613545],\n",
       "       [ 0.52046363, -0.01291216],\n",
       "       [-1.21541508, -0.80172769],\n",
       "       [-1.43939943, -1.32760471],\n",
       "       [ 0.07249493, -0.14438141],\n",
       "       [-1.32740725, -1.32760471],\n",
       "       [ 0.74444798,  1.5647189 ],\n",
       "       [-1.21541508, -1.0646662 ],\n",
       "       [-0.09549333,  0.1185571 ],\n",
       "       [ 0.74444798,  0.51296486],\n",
       "       [ 0.35247537,  0.25002635],\n",
       "       [ 0.29647928,  0.1185571 ],\n",
       "       [ 1.02442842,  1.30178039],\n",
       "       [ 1.64038538,  1.30178039],\n",
       "       [-0.15148942, -0.27585067],\n",
       "       [-1.27141116, -1.45907396],\n",
       "       [ 0.63245581,  0.77590337],\n",
       "       [ 1.64038538,  1.03884188],\n",
       "       [ 0.57645972,  0.77590337],\n",
       "       [ 1.30440886,  1.43324964],\n",
       "       [ 0.12849102, -0.01291216],\n",
       "       [ 0.29647928,  0.1185571 ],\n",
       "       [ 1.08042451,  1.43324964],\n",
       "       [ 0.74444798,  0.90737262],\n",
       "       [ 1.41640103,  0.77590337],\n",
       "       [ 0.57645972,  0.25002635],\n",
       "       [-1.38340334, -1.32760471],\n",
       "       [-1.32740725, -1.32760471],\n",
       "       [ 0.6884519 ,  0.38149561],\n",
       "       [ 1.02442842,  1.17031113],\n",
       "       [-0.26348159, -0.27585067],\n",
       "       [ 0.46446755,  0.1185571 ],\n",
       "       [ 1.02442842,  1.5647189 ],\n",
       "       [ 1.75237756,  1.43324964],\n",
       "       [-1.04742681, -1.0646662 ],\n",
       "       [-1.21541508, -1.32760471],\n",
       "       [ 0.40847146,  0.38149561],\n",
       "       [-1.15941899, -1.32760471],\n",
       "       [ 0.63245581,  0.38149561],\n",
       "       [ 1.47239712,  1.03884188],\n",
       "       [-1.27141116, -1.32760471],\n",
       "       [-1.15941899, -1.19613545],\n",
       "       [ 0.96843233,  1.17031113],\n",
       "       [ 0.12849102,  0.1185571 ],\n",
       "       [ 1.58438929,  1.17031113],\n",
       "       [ 0.07249493,  0.25002635],\n",
       "       [-1.27141116, -1.0646662 ],\n",
       "       [-1.21541508, -1.32760471],\n",
       "       [-1.43939943, -1.32760471],\n",
       "       [-1.38340334, -1.19613545],\n",
       "       [ 0.74444798,  1.03884188],\n",
       "       [-1.27141116, -1.0646662 ],\n",
       "       [ 0.40847146,  0.38149561],\n",
       "       [ 0.57645972,  0.77590337],\n",
       "       [ 0.2404832 ,  0.1185571 ],\n",
       "       [ 0.96843233,  0.77590337],\n",
       "       [-1.27141116, -1.32760471],\n",
       "       [ 0.2404832 ,  0.38149561],\n",
       "       [ 0.2404832 , -0.01291216],\n",
       "       [-1.32740725, -1.45907396],\n",
       "       [ 0.01649885, -0.14438141],\n",
       "       [ 1.1364206 ,  0.77590337],\n",
       "       [ 0.63245581,  0.38149561],\n",
       "       [ 1.19241668,  1.17031113],\n",
       "       [-1.32740725, -1.32760471],\n",
       "       [ 0.52046363,  0.25002635],\n",
       "       [ 0.85644016,  1.43324964],\n",
       "       [ 0.57645972,  0.77590337],\n",
       "       [ 0.6884519 ,  0.64443411],\n",
       "       [ 1.08042451,  1.69618815],\n",
       "       [-1.49539551, -1.45907396],\n",
       "       [-0.43146985, -0.14438141],\n",
       "       [-1.21541508, -1.32760471],\n",
       "       [-1.32740725, -1.19613545],\n",
       "       [ 0.63245581,  0.77590337],\n",
       "       [ 0.52046363,  0.51296486],\n",
       "       [ 1.19241668,  1.43324964],\n",
       "       [-1.27141116, -1.32760471],\n",
       "       [-1.32740725, -1.32760471],\n",
       "       [-1.32740725, -1.19613545],\n",
       "       [-1.15941899, -1.0646662 ],\n",
       "       [-1.27141116, -1.32760471],\n",
       "       [ 0.2404832 ,  0.1185571 ],\n",
       "       [ 1.08042451,  1.17031113],\n",
       "       [ 0.91243625,  1.43324964],\n",
       "       [ 1.24841277,  0.77590337],\n",
       "       [-1.5513916 , -1.32760471],\n",
       "       [ 0.74444798,  0.38149561],\n",
       "       [-1.38340334, -1.32760471],\n",
       "       [ 1.1364206 ,  1.30178039],\n",
       "       [-1.38340334, -1.32760471],\n",
       "       [ 0.46446755,  0.25002635],\n",
       "       [ 0.12849102,  0.1185571 ],\n",
       "       [ 0.07249493, -0.01291216],\n",
       "       [ 0.12849102, -0.27585067],\n",
       "       [-1.38340334, -1.0646662 ],\n",
       "       [ 0.80044407,  1.43324964],\n",
       "       [ 0.96843233,  0.77590337],\n",
       "       [-1.32740725, -1.32760471],\n",
       "       [ 0.40847146,  0.38149561],\n",
       "       [ 0.40847146,  0.38149561],\n",
       "       [-1.21541508, -1.32760471],\n",
       "       [ 1.30440886,  0.90737262],\n",
       "       [ 0.74444798,  1.43324964],\n",
       "       [ 0.85644016,  0.90737262]])"
      ]
     },
     "execution_count": 15,
     "metadata": {},
     "output_type": "execute_result"
    }
   ],
   "source": [
    "X_train_fs_2d"
   ]
  },
  {
   "cell_type": "markdown",
   "id": "b9badb07-6f95-474a-a119-eb945ba4335e",
   "metadata": {},
   "source": [
    "# Prepare data for 3d experiments and plots"
   ]
  },
  {
   "cell_type": "markdown",
   "id": "e511f5ee-25f1-4f96-9a3c-0377313c986c",
   "metadata": {},
   "source": [
    "## Grab the first 3 features in your datsset and change to binary classification problem \n",
    "- You will have to make the problem a binary classifiation problem\n",
    "  - This will be done by grabbing Only labels with 0 or 1. We will be completely ignoring class 2"
   ]
  },
  {
   "cell_type": "code",
   "execution_count": 41,
   "id": "33363fcc-d9cc-42ce-9285-8cbc1ea05630",
   "metadata": {},
   "outputs": [
    {
     "data": {
      "text/plain": [
       "array([0, 1])"
      ]
     },
     "execution_count": 41,
     "metadata": {},
     "output_type": "execute_result"
    }
   ],
   "source": [
    "# Let's easily remove labels with number 2 and its corresponding features\n",
    "iris_df_bin = iris_df[iris_df.target != 2]\n",
    "iris_df_bin.target.unique()"
   ]
  },
  {
   "cell_type": "code",
   "execution_count": 17,
   "id": "121c5d24-9671-4e77-adb9-53c7dfe87ab4",
   "metadata": {},
   "outputs": [
    {
     "data": {
      "text/plain": [
       "(100, 3)"
      ]
     },
     "execution_count": 17,
     "metadata": {},
     "output_type": "execute_result"
    }
   ],
   "source": [
    "X_bin_3d = iris_df_bin.iloc[:,:3]\n",
    "X_bin_3d.shape"
   ]
  },
  {
   "cell_type": "code",
   "execution_count": 18,
   "id": "4ecdcdda-89ab-40fa-964c-d55647b49e76",
   "metadata": {},
   "outputs": [
    {
     "data": {
      "text/plain": [
       "(100,)"
      ]
     },
     "execution_count": 18,
     "metadata": {},
     "output_type": "execute_result"
    }
   ],
   "source": [
    "Y_bin = iris_df_bin.target\n",
    "Y_bin.shape"
   ]
  },
  {
   "cell_type": "markdown",
   "id": "086bb73c-4c8a-448c-90e3-91fa71a59835",
   "metadata": {},
   "source": [
    "## Split the data into a training and testing dataset using train_test_split from sklearn and set stratify=y (In this case remember y is your binary version of y which has only 2 labels 0 and 1)"
   ]
  },
  {
   "cell_type": "code",
   "execution_count": 19,
   "id": "18d671df-7bf7-4e06-a8c8-0f754990bdb2",
   "metadata": {},
   "outputs": [],
   "source": [
    "X_train_bin_3d, X_test_bin_3d, Y_train_bin, Y_test_bin = train_test_split(X_bin_3d, Y_bin, test_size=0.25, random_state=0, stratify=Y_bin)"
   ]
  },
  {
   "cell_type": "code",
   "execution_count": 20,
   "id": "2c642115-0509-4474-ade4-691c6547e40e",
   "metadata": {},
   "outputs": [
    {
     "name": "stdout",
     "output_type": "stream",
     "text": [
      "Training examples target classes: \n",
      "[1 0 1 0 1 1 0 1 0 1 0 0 0 1 1 0 1 1 0 0 1 0 0 1 0 0 1 1 1 1 1 1 1 0 1 0 0\n",
      " 1 0 0 1 0 1 0 1 1 0 1 0 0 0 0 1 1 0 1 0 0 1 1 0 1 0 1 1 0 1 0 1 0 1 0 0 1\n",
      " 0]\n"
     ]
    }
   ],
   "source": [
    "print(f'''Training examples target classes: \n",
    "{Y_train_bin.values}''')"
   ]
  },
  {
   "cell_type": "code",
   "execution_count": 21,
   "id": "1003c860-40c6-4671-bfe4-4d10e488317e",
   "metadata": {
    "tags": []
   },
   "outputs": [
    {
     "name": "stdout",
     "output_type": "stream",
     "text": [
      "Testing examples target classes:\n",
      "[1 1 0 0 0 1 0 1 0 1 1 0 0 1 1 0 1 0 0 0 0 0 1 1 1]\n"
     ]
    }
   ],
   "source": [
    "print(f'''Testing examples target classes:\n",
    "{Y_test_bin.values}''')"
   ]
  },
  {
   "cell_type": "markdown",
   "id": "e0500136-13f2-4904-8cdc-61d436d4a36e",
   "metadata": {},
   "source": [
    "## Train, predict and plot svm on 2d prepared data with the following configuration:\n",
    "\n",
    "- kernel=\"linear\", C=1.0"
   ]
  },
  {
   "cell_type": "code",
   "execution_count": 22,
   "id": "190ce765-5c80-4865-af6e-129fd217dbe9",
   "metadata": {},
   "outputs": [],
   "source": [
    "# Training the model:\n",
    "model = SVC(kernel='linear', C=1.0)\n",
    "clf_multiclass_2d = model.fit(X_train_fs_2d, Y_train)"
   ]
  },
  {
   "cell_type": "markdown",
   "id": "03ba29eb-6cc1-47ff-8969-84a271454c26",
   "metadata": {
    "tags": []
   },
   "source": [
    "### Calculate the accuracy and hinge loss on the training set"
   ]
  },
  {
   "cell_type": "code",
   "execution_count": 23,
   "id": "2aa17738-77cc-40ea-88fa-8790b8672f4b",
   "metadata": {},
   "outputs": [],
   "source": [
    "# Predicting:\n",
    "h_w_x = clf_multiclass_2d.predict(X_train_fs_2d)"
   ]
  },
  {
   "cell_type": "code",
   "execution_count": 24,
   "id": "01455c76-70d0-4844-89bf-5791e06159a6",
   "metadata": {
    "tags": []
   },
   "outputs": [
    {
     "name": "stdout",
     "output_type": "stream",
     "text": [
      "Accuracy: 0.9553571428571429\n"
     ]
    }
   ],
   "source": [
    "# Calculating accuracy:\n",
    "accuracy = accuracy_score(Y_train, h_w_x, normalize=True)\n",
    "\n",
    "print(f\"Accuracy: {accuracy}\")"
   ]
  },
  {
   "cell_type": "code",
   "execution_count": 25,
   "id": "428f7b48-318b-41d3-8df7-bb3a1bf366ec",
   "metadata": {},
   "outputs": [
    {
     "name": "stdout",
     "output_type": "stream",
     "text": [
      "Training hinge loss: 0.10699609961904019\n"
     ]
    }
   ],
   "source": [
    "# Calculating hinge loss:\n",
    "hinge_loss_ = hinge_loss(Y_train, clf_multiclass_2d.decision_function(X_train_fs_2d))\n",
    "\n",
    "print(f\"Training hinge loss: {hinge_loss_}\")"
   ]
  },
  {
   "cell_type": "markdown",
   "id": "d943144f-c16c-47d5-bcab-4bddf6d69e13",
   "metadata": {
    "tags": []
   },
   "source": [
    "### Calculate the accuracy and hinge loss on the testing set"
   ]
  },
  {
   "cell_type": "code",
   "execution_count": 26,
   "id": "b62507ed-eefd-495e-a322-8d9470723507",
   "metadata": {
    "tags": []
   },
   "outputs": [],
   "source": [
    "# Predicting:\n",
    "h_w_x = clf_multiclass_2d.predict(X_test_fs_2d)"
   ]
  },
  {
   "cell_type": "code",
   "execution_count": 27,
   "id": "ca541bfb-55e5-460a-9679-a6e19e38ac49",
   "metadata": {
    "tags": []
   },
   "outputs": [
    {
     "name": "stdout",
     "output_type": "stream",
     "text": [
      "Accuracy: 0.9736842105263158\n"
     ]
    }
   ],
   "source": [
    "# Calculating accuracy:\n",
    "accuracy = accuracy_score(Y_test, h_w_x, normalize=True)\n",
    "\n",
    "print(f\"Accuracy: {accuracy}\")"
   ]
  },
  {
   "cell_type": "code",
   "execution_count": 28,
   "id": "cad9ce65-0536-4302-8909-943a2da0ab75",
   "metadata": {},
   "outputs": [
    {
     "name": "stdout",
     "output_type": "stream",
     "text": [
      "Training hinge loss: 0.071755462790017\n"
     ]
    }
   ],
   "source": [
    "# Calculating hinge loss:\n",
    "hinge_loss_ = hinge_loss(Y_test, clf_multiclass_2d.decision_function(X_test_fs_2d))\n",
    "\n",
    "print(f\"Training hinge loss: {hinge_loss_}\")"
   ]
  },
  {
   "cell_type": "markdown",
   "id": "8764aa9d-6ac9-488b-ac33-5614a5d9ddb1",
   "metadata": {
    "tags": []
   },
   "source": [
    "### Plot the decision boundary with each point colored with its groundtruth class in 2D\n",
    "- encircle your support vectors"
   ]
  },
  {
   "cell_type": "code",
   "execution_count": 29,
   "id": "c3b7f633-cfdc-4121-a660-a88ba4ef6587",
   "metadata": {},
   "outputs": [
    {
     "name": "stderr",
     "output_type": "stream",
     "text": [
      "No artists with labels found to put in legend.  Note that artists whose label start with an underscore are ignored when legend() is called with no argument.\n"
     ]
    },
    {
     "data": {
      "image/png": "[encoded data removed]",
      "text/plain": [
       "<Figure size 432x288 with 1 Axes>"
      ]
     },
     "metadata": {},
     "output_type": "display_data"
    }
   ],
   "source": [
    "# Predicting and plotting on the TRAIN dataset:\n",
    "def make_meshgrid(x, y, h=.02):\n",
    "    x_min, x_max = x.min() - 1, x.max() + 1\n",
    "    y_min, y_max = y.min() - 1, y.max() + 1\n",
    "    xx, yy = np.meshgrid(np.arange(x_min, x_max, h), np.arange(y_min, y_max, h))\n",
    "    return xx, yy\n",
    "\n",
    "def plot_contours(ax, clf_multiclass_2d, xx, yy, **params):\n",
    "    Z = clf_multiclass_2d.predict(np.c_[xx.ravel(), yy.ravel()])\n",
    "    Z = Z.reshape(xx.shape)\n",
    "    out = ax.contourf(xx, yy, Z, **params)\n",
    "    return out\n",
    "\n",
    "fig, ax = plt.subplots()\n",
    "# title for the plots\n",
    "title = ('Decision surface of linear SVC ')\n",
    "# Set-up grid for plotting.\n",
    "X0, X1 = X_train_fs_2d[:, 0], X_train_fs_2d[:, 1]\n",
    "xx, yy = make_meshgrid(X0, X1)\n",
    "\n",
    "\n",
    "plot_contours(ax, clf_multiclass_2d, xx, yy, cmap=plt.cm.coolwarm, alpha=0.8)\n",
    "ax.scatter(X0, X1, c=Y_train, cmap=plt.cm.coolwarm, s=20, edgecolors='k')\n",
    "\n",
    "# Encircle support vectors\n",
    "plt.scatter(model.support_vectors_[:, 0],\n",
    "            model.support_vectors_[:, 1], \n",
    "            s=50, \n",
    "            facecolors='none', \n",
    "            edgecolors='yellow', \n",
    "            alpha=.5)\n",
    "ax.set_ylabel(f'{iris_df.iloc[:, 1].name}')\n",
    "ax.set_xlabel(f'{iris_df.iloc[:, 0].name}')\n",
    "ax.set_xticks(())\n",
    "ax.set_yticks(())\n",
    "ax.set_title(title)\n",
    "ax.legend()\n",
    "plt.show()"
   ]
  },
  {
   "cell_type": "code",
   "execution_count": 30,
   "id": "abe1514d-b35a-4f33-adfd-ecbb2885fffd",
   "metadata": {},
   "outputs": [
    {
     "name": "stderr",
     "output_type": "stream",
     "text": [
      "No artists with labels found to put in legend.  Note that artists whose label start with an underscore are ignored when legend() is called with no argument.\n"
     ]
    },
    {
     "data": {
      "image/png": "[encoded data removed]",
      "text/plain": [
       "<Figure size 432x288 with 1 Axes>"
      ]
     },
     "metadata": {},
     "output_type": "display_data"
    }
   ],
   "source": [
    "# Predicting and plotting on the TEST dataset:\n",
    "fig, ax = plt.subplots()\n",
    "# title for the plots\n",
    "title = ('Decision surface of linear SVC ')\n",
    "# Set-up grid for plotting.\n",
    "X0, X1 = X_test_fs_2d[:, 0], X_test_fs_2d[:, 1]\n",
    "xx, yy = make_meshgrid(X0, X1)\n",
    "\n",
    "\n",
    "plot_contours(ax, clf_multiclass_2d, xx, yy, cmap=plt.cm.coolwarm, alpha=0.8)\n",
    "ax.scatter(X0, X1, c=Y_test, cmap=plt.cm.coolwarm, s=20, edgecolors='k')\n",
    "\n",
    "# Encircle support vectors\n",
    "plt.scatter(model.support_vectors_[:, 0],\n",
    "            model.support_vectors_[:, 1], \n",
    "            s=50, \n",
    "            facecolors='none', \n",
    "            edgecolors='yellow', \n",
    "            alpha=.5)\n",
    "ax.set_ylabel(f'{iris_df.iloc[:, 1].name}')\n",
    "ax.set_xlabel(f'{iris_df.iloc[:, 0].name}')\n",
    "ax.set_xticks(())\n",
    "ax.set_yticks(())\n",
    "ax.set_title(title)\n",
    "ax.legend()\n",
    "plt.show()"
   ]
  },
  {
   "cell_type": "markdown",
   "id": "9275a5b7-4e2d-4f37-b6a9-a58cb0e9f4d9",
   "metadata": {
    "tags": []
   },
   "source": [
    "## Train, predict and plot svm on 3d prepared data with the following configuration:\n",
    "\n",
    "- kernel=\"linear\", C=1.0"
   ]
  },
  {
   "cell_type": "code",
   "execution_count": 32,
   "id": "13929cf7-9d17-46d7-a46d-c00e2c52047d",
   "metadata": {
    "tags": []
   },
   "outputs": [],
   "source": [
    "# Training the model:\n",
    "model = SVC(kernel='linear', C=1.0)\n",
    "clf_binary_3d = model.fit(X_train_bin_3d, Y_train_bin)"
   ]
  },
  {
   "cell_type": "markdown",
   "id": "3873a63d-a571-41ad-b7ce-e4bde3470221",
   "metadata": {
    "tags": []
   },
   "source": [
    "### Plot 3D graph using binary training data with hyperplane separating the 2 points\n",
    "    - Hint: You should have the plane perfectly seperating 2 classes"
   ]
  },
  {
   "cell_type": "code",
   "execution_count": 46,
   "id": "070bb44f-9128-424a-9638-ac3252e17e89",
   "metadata": {
    "tags": []
   },
   "outputs": [
    {
     "data": {
      "image/png": "[encoded data removed]",
      "text/plain": [
       "<Figure size 432x288 with 1 Axes>"
      ]
     },
     "metadata": {
      "needs_background": "light"
     },
     "output_type": "display_data"
    }
   ],
   "source": [
    "# The equation of the separating plane is given by all x so that np.dot(svc.coef_[0], x) + b = 0.\n",
    "# Solve for w3 (z)\n",
    "z = lambda x,y: (-clf_binary_3d.intercept_[0]-clf_binary_3d.coef_[0][0]*x -clf_binary_3d.coef_[0][1]*y) / clf_binary_3d.coef_[0][2]\n",
    "\n",
    "tmp = np.linspace(-5,5,30)\n",
    "x,y = np.meshgrid(tmp,tmp)\n",
    "\n",
    "fig = plt.figure()\n",
    "ax  = fig.add_subplot(111, projection='3d')\n",
    "ax.plot3D(X_train_bin_3d.values[Y_train_bin.values==0,0], X_train_bin_3d.values[Y_train_bin.values==0,1], X_train_bin_3d.values[Y_train_bin.values==0,2],'ob')\n",
    "ax.plot3D(X_train_bin_3d.values[Y_train_bin.values==1,0], X_train_bin_3d.values[Y_train_bin.values==1,1], X_train_bin_3d.values[Y_train_bin.values==1,2],'sr')\n",
    "ax.plot_surface(x, y, z(x,y))\n",
    "ax.view_init(30, 60)\n",
    "plt.show()"
   ]
  },
  {
   "cell_type": "markdown",
   "id": "824462d2-79db-4bf2-ad6e-266a377d51ef",
   "metadata": {
    "tags": []
   },
   "source": [
    "### Get the accuracy and hinge loss of the testing set"
   ]
  },
  {
   "cell_type": "code",
   "execution_count": 52,
   "id": "8e30f0af-ebca-4a77-91e5-1c2c55cb4115",
   "metadata": {
    "tags": []
   },
   "outputs": [],
   "source": [
    "# Predicting:\n",
    "h_w_x = clf_binary_3d.predict(X_test_bin_3d)"
   ]
  },
  {
   "cell_type": "code",
   "execution_count": 53,
   "id": "7052698a-0ede-4c04-addc-3e43bdf557e3",
   "metadata": {
    "tags": []
   },
   "outputs": [
    {
     "name": "stdout",
     "output_type": "stream",
     "text": [
      "Accuracy: 1.0\n"
     ]
    }
   ],
   "source": [
    "# Calculating accuracy:\n",
    "accuracy = accuracy_score(Y_test_bin, h_w_x, normalize=True)\n",
    "\n",
    "print(f\"Accuracy: {accuracy}\")"
   ]
  },
  {
   "cell_type": "code",
   "execution_count": 54,
   "id": "24ea4bab-b42b-4505-9943-22ea3fa4e59d",
   "metadata": {
    "tags": []
   },
   "outputs": [
    {
     "name": "stdout",
     "output_type": "stream",
     "text": [
      "Training hinge loss: 0.006642279749546143\n"
     ]
    }
   ],
   "source": [
    "# Calculating hinge loss:\n",
    "hinge_loss_ = hinge_loss(Y_test_bin, clf_binary_3d.decision_function(X_test_bin_3d))\n",
    "\n",
    "print(f\"Training hinge loss: {hinge_loss_}\")"
   ]
  },
  {
   "cell_type": "markdown",
   "id": "b6f250b8-109c-4526-9878-26e28cc86743",
   "metadata": {
    "tags": []
   },
   "source": [
    "## Train, predict and plot svm on 2d prepared data with the following configuration:\n",
    "\n",
    "- kernel=\"linear\", C=100000"
   ]
  },
  {
   "cell_type": "code",
   "execution_count": 55,
   "id": "4ae8068a-b26d-4ec7-9866-e0a84869ad25",
   "metadata": {
    "tags": []
   },
   "outputs": [],
   "source": [
    "# Training the model:\n",
    "model = SVC(kernel='linear', C=100000)\n",
    "clf_multiclass_2d = model.fit(X_train_fs_2d, Y_train)"
   ]
  },
  {
   "cell_type": "markdown",
   "id": "9edc6448-afc9-4324-920e-f8408754f7c6",
   "metadata": {
    "tags": []
   },
   "source": [
    "### Calculate the accuracy and hinge loss on the training set"
   ]
  },
  {
   "cell_type": "code",
   "execution_count": 56,
   "id": "68f541e8-893c-46dc-a445-3f48d49da8a0",
   "metadata": {
    "tags": []
   },
   "outputs": [],
   "source": [
    "# Predicting:\n",
    "h_w_x = clf_multiclass_2d.predict(X_train_fs_2d)"
   ]
  },
  {
   "cell_type": "code",
   "execution_count": 57,
   "id": "1398c2f2-d5a9-40fe-b5e3-d7fddf5b8298",
   "metadata": {
    "tags": []
   },
   "outputs": [
    {
     "name": "stdout",
     "output_type": "stream",
     "text": [
      "Accuracy: 0.9642857142857143\n"
     ]
    }
   ],
   "source": [
    "# Calculating accuracy:\n",
    "accuracy = accuracy_score(Y_train, h_w_x, normalize=True)\n",
    "\n",
    "print(f\"Accuracy: {accuracy}\")"
   ]
  },
  {
   "cell_type": "code",
   "execution_count": 58,
   "id": "f8b01a71-1773-4581-89af-8c0c9461d347",
   "metadata": {
    "tags": []
   },
   "outputs": [
    {
     "name": "stdout",
     "output_type": "stream",
     "text": [
      "Training hinge loss: 0.09202491845064567\n"
     ]
    }
   ],
   "source": [
    "# Calculating hinge loss:\n",
    "hinge_loss_ = hinge_loss(Y_train, clf_multiclass_2d.decision_function(X_train_fs_2d))\n",
    "\n",
    "print(f\"Training hinge loss: {hinge_loss_}\")"
   ]
  },
  {
   "cell_type": "markdown",
   "id": "fee4e187-93e3-46a4-a454-5c0f6fc2f2e1",
   "metadata": {},
   "source": [
    "### Calculate the accuracy and hinge loss on the testing set"
   ]
  },
  {
   "cell_type": "code",
   "execution_count": 59,
   "id": "51308b88-456d-40a7-8b2a-1300ae432a8f",
   "metadata": {
    "tags": []
   },
   "outputs": [],
   "source": [
    "# Predicting:\n",
    "h_w_x = clf_multiclass_2d.predict(X_test_fs_2d)"
   ]
  },
  {
   "cell_type": "code",
   "execution_count": 60,
   "id": "e639ced1-a1d2-4d7a-8b39-eafd823ef893",
   "metadata": {
    "tags": []
   },
   "outputs": [
    {
     "name": "stdout",
     "output_type": "stream",
     "text": [
      "Accuracy: 0.9473684210526315\n"
     ]
    }
   ],
   "source": [
    "# Calculating accuracy:\n",
    "accuracy = accuracy_score(Y_test, h_w_x, normalize=True)\n",
    "\n",
    "print(f\"Accuracy: {accuracy}\")"
   ]
  },
  {
   "cell_type": "code",
   "execution_count": 61,
   "id": "a54a6204-51d4-4a7f-8988-2fce516c1606",
   "metadata": {
    "tags": []
   },
   "outputs": [
    {
     "name": "stdout",
     "output_type": "stream",
     "text": [
      "Training hinge loss: 0.13481851457120597\n"
     ]
    }
   ],
   "source": [
    "# Calculating hinge loss:\n",
    "hinge_loss_ = hinge_loss(Y_test, clf_multiclass_2d.decision_function(X_test_fs_2d))\n",
    "\n",
    "print(f\"Training hinge loss: {hinge_loss_}\")"
   ]
  },
  {
   "cell_type": "markdown",
   "id": "5e0908cd-462e-44c5-a5e0-32d234d93bba",
   "metadata": {},
   "source": [
    "### Plot the decision boundary with each point colored with its groundtruth class in 2D\n",
    "- encircle your support vectors"
   ]
  },
  {
   "cell_type": "code",
   "execution_count": 62,
   "id": "77a86292-e67b-4bf9-a722-915b2b8aabaf",
   "metadata": {
    "tags": []
   },
   "outputs": [
    {
     "name": "stderr",
     "output_type": "stream",
     "text": [
      "No artists with labels found to put in legend.  Note that artists whose label start with an underscore are ignored when legend() is called with no argument.\n"
     ]
    },
    {
     "data": {
      "image/png": "[encoded data removed]",
      "text/plain": [
       "<Figure size 432x288 with 1 Axes>"
      ]
     },
     "metadata": {},
     "output_type": "display_data"
    }
   ],
   "source": [
    "# Predicting and plotting on the TRAIN dataset:\n",
    "def make_meshgrid(x, y, h=.02):\n",
    "    x_min, x_max = x.min() - 1, x.max() + 1\n",
    "    y_min, y_max = y.min() - 1, y.max() + 1\n",
    "    xx, yy = np.meshgrid(np.arange(x_min, x_max, h), np.arange(y_min, y_max, h))\n",
    "    return xx, yy\n",
    "\n",
    "def plot_contours(ax, clf_multiclass_2d, xx, yy, **params):\n",
    "    Z = clf_multiclass_2d.predict(np.c_[xx.ravel(), yy.ravel()])\n",
    "    Z = Z.reshape(xx.shape)\n",
    "    out = ax.contourf(xx, yy, Z, **params)\n",
    "    return out\n",
    "\n",
    "fig, ax = plt.subplots()\n",
    "# title for the plots\n",
    "title = ('Decision surface of linear SVC ')\n",
    "# Set-up grid for plotting.\n",
    "X0, X1 = X_train_fs_2d[:, 0], X_train_fs_2d[:, 1]\n",
    "xx, yy = make_meshgrid(X0, X1)\n",
    "\n",
    "\n",
    "plot_contours(ax, clf_multiclass_2d, xx, yy, cmap=plt.cm.coolwarm, alpha=0.8)\n",
    "ax.scatter(X0, X1, c=Y_train, cmap=plt.cm.coolwarm, s=20, edgecolors='k')\n",
    "\n",
    "# Encircle support vectors\n",
    "plt.scatter(model.support_vectors_[:, 0],\n",
    "            model.support_vectors_[:, 1], \n",
    "            s=50, \n",
    "            facecolors='none', \n",
    "            edgecolors='yellow', \n",
    "            alpha=.5)\n",
    "ax.set_ylabel(f'{iris_df.iloc[:, 1].name}')\n",
    "ax.set_xlabel(f'{iris_df.iloc[:, 0].name}')\n",
    "ax.set_xticks(())\n",
    "ax.set_yticks(())\n",
    "ax.set_title(title)\n",
    "ax.legend()\n",
    "plt.show()"
   ]
  },
  {
   "cell_type": "code",
   "execution_count": 63,
   "id": "cef9eea0-1851-4e09-b3e2-0f83a773263c",
   "metadata": {
    "tags": []
   },
   "outputs": [
    {
     "name": "stderr",
     "output_type": "stream",
     "text": [
      "No artists with labels found to put in legend.  Note that artists whose label start with an underscore are ignored when legend() is called with no argument.\n"
     ]
    },
    {
     "data": {
      "image/png": "[encoded data removed]",
      "text/plain": [
       "<Figure size 432x288 with 1 Axes>"
      ]
     },
     "metadata": {},
     "output_type": "display_data"
    }
   ],
   "source": [
    "# Predicting and plotting on the TEST dataset:\n",
    "fig, ax = plt.subplots()\n",
    "# title for the plots\n",
    "title = ('Decision surface of linear SVC ')\n",
    "# Set-up grid for plotting.\n",
    "X0, X1 = X_test_fs_2d[:, 0], X_test_fs_2d[:, 1]\n",
    "xx, yy = make_meshgrid(X0, X1)\n",
    "\n",
    "\n",
    "plot_contours(ax, clf_multiclass_2d, xx, yy, cmap=plt.cm.coolwarm, alpha=0.8)\n",
    "ax.scatter(X0, X1, c=Y_test, cmap=plt.cm.coolwarm, s=20, edgecolors='k')\n",
    "\n",
    "# Encircle support vectors\n",
    "plt.scatter(model.support_vectors_[:, 0],\n",
    "            model.support_vectors_[:, 1], \n",
    "            s=50, \n",
    "            facecolors='none', \n",
    "            edgecolors='yellow', \n",
    "            alpha=.5)\n",
    "ax.set_ylabel(f'{iris_df.iloc[:, 1].name}')\n",
    "ax.set_xlabel(f'{iris_df.iloc[:, 0].name}')\n",
    "ax.set_xticks(())\n",
    "ax.set_yticks(())\n",
    "ax.set_title(title)\n",
    "ax.legend()\n",
    "plt.show()"
   ]
  },
  {
   "cell_type": "markdown",
   "id": "4c99a9f0-5d9e-4024-aea7-ea464cef9fad",
   "metadata": {
    "tags": []
   },
   "source": [
    "## Train, predict and plot svm on 3d prepared data with the following configuration:\n",
    "\n",
    "- kernel=\"linear\", C=100000"
   ]
  },
  {
   "cell_type": "code",
   "execution_count": 64,
   "id": "4129a669-0703-4380-92ec-b0053f320a92",
   "metadata": {
    "tags": []
   },
   "outputs": [],
   "source": [
    "# Training the model:\n",
    "model = SVC(kernel='linear', C=100000)\n",
    "clf_binary_3d = model.fit(X_train_bin_3d, Y_train_bin)"
   ]
  },
  {
   "cell_type": "markdown",
   "id": "88dd73b7-f2ba-4d4b-a5c1-0541d7d0474f",
   "metadata": {
    "tags": []
   },
   "source": [
    "### Plot 3D graph using binary training data with hyperplane separating the 2 points\n",
    "    - Hint: You should have the plane perfectly seperating 2 classes"
   ]
  },
  {
   "cell_type": "code",
   "execution_count": 65,
   "id": "5bd4c2c3-cc4c-452b-a202-3ea1d3f5072a",
   "metadata": {
    "tags": []
   },
   "outputs": [
    {
     "data": {
      "image/png": "[encoded data removed]",
      "text/plain": [
       "<Figure size 432x288 with 1 Axes>"
      ]
     },
     "metadata": {
      "needs_background": "light"
     },
     "output_type": "display_data"
    }
   ],
   "source": [
    "# The equation of the separating plane is given by all x so that np.dot(svc.coef_[0], x) + b = 0.\n",
    "# Solve for w3 (z)\n",
    "z = lambda x,y: (-clf_binary_3d.intercept_[0]-clf_binary_3d.coef_[0][0]*x -clf_binary_3d.coef_[0][1]*y) / clf_binary_3d.coef_[0][2]\n",
    "\n",
    "tmp = np.linspace(-5,5,30)\n",
    "x,y = np.meshgrid(tmp,tmp)\n",
    "\n",
    "fig = plt.figure()\n",
    "ax  = fig.add_subplot(111, projection='3d')\n",
    "ax.plot3D(X_train_bin_3d.values[Y_train_bin.values==0,0], X_train_bin_3d.values[Y_train_bin.values==0,1], X_train_bin_3d.values[Y_train_bin.values==0,2],'ob')\n",
    "ax.plot3D(X_train_bin_3d.values[Y_train_bin.values==1,0], X_train_bin_3d.values[Y_train_bin.values==1,1], X_train_bin_3d.values[Y_train_bin.values==1,2],'sr')\n",
    "ax.plot_surface(x, y, z(x,y))\n",
    "ax.view_init(30, 60)\n",
    "plt.show()"
   ]
  },
  {
   "cell_type": "markdown",
   "id": "8ca7a854-8e87-4c82-9f58-502f1cc74146",
   "metadata": {
    "tags": []
   },
   "source": [
    "### Get the accuracy and hinge loss of the testing set"
   ]
  },
  {
   "cell_type": "code",
   "execution_count": 66,
   "id": "ea0a6537-d444-496d-ba4d-46b6aa4045c0",
   "metadata": {
    "tags": []
   },
   "outputs": [],
   "source": [
    "# Predicting:\n",
    "h_w_x = clf_binary_3d.predict(X_test_bin_3d)"
   ]
  },
  {
   "cell_type": "code",
   "execution_count": 67,
   "id": "a5747272-0429-45d5-8991-7fccf2624353",
   "metadata": {
    "tags": []
   },
   "outputs": [
    {
     "name": "stdout",
     "output_type": "stream",
     "text": [
      "Accuracy: 1.0\n"
     ]
    }
   ],
   "source": [
    "# Calculating accuracy:\n",
    "accuracy = accuracy_score(Y_test_bin, h_w_x, normalize=True)\n",
    "\n",
    "print(f\"Accuracy: {accuracy}\")"
   ]
  },
  {
   "cell_type": "code",
   "execution_count": 68,
   "id": "59ec0e15-d1c0-469f-947c-c6b3a23e8ef0",
   "metadata": {
    "tags": []
   },
   "outputs": [
    {
     "name": "stdout",
     "output_type": "stream",
     "text": [
      "Training hinge loss: 0.006642279749546143\n"
     ]
    }
   ],
   "source": [
    "# Calculating hinge loss:\n",
    "hinge_loss_ = hinge_loss(Y_test_bin, clf_binary_3d.decision_function(X_test_bin_3d))\n",
    "\n",
    "print(f\"Training hinge loss: {hinge_loss_}\")"
   ]
  },
  {
   "cell_type": "markdown",
   "id": "18f369a9-fa7d-4c5c-8eb0-1571f8ce305c",
   "metadata": {
    "tags": []
   },
   "source": [
    "## Train, predict and plot svm on 2d prepared data with the following configuration:\n",
    "\n",
    "- kernel=\"linear\", C=0.0001"
   ]
  },
  {
   "cell_type": "code",
   "execution_count": 69,
   "id": "8568fdd1-dda5-4aaf-a267-be9884aa0300",
   "metadata": {
    "tags": []
   },
   "outputs": [],
   "source": [
    "# Training the model:\n",
    "model = SVC(kernel='linear', C=0.0001)\n",
    "clf_multiclass_2d = model.fit(X_train_fs_2d, Y_train)"
   ]
  },
  {
   "cell_type": "markdown",
   "id": "dfdc2cee-a590-441c-b1f8-1907da23c157",
   "metadata": {
    "tags": []
   },
   "source": [
    "### Calculate the accuracy and hinge loss on the training set"
   ]
  },
  {
   "cell_type": "code",
   "execution_count": 70,
   "id": "e4c95f4b-7dee-4ffb-bbab-8e0022566369",
   "metadata": {
    "tags": []
   },
   "outputs": [],
   "source": [
    "# Predicting:\n",
    "h_w_x = clf_multiclass_2d.predict(X_train_fs_2d)"
   ]
  },
  {
   "cell_type": "code",
   "execution_count": 71,
   "id": "15356852-5223-4904-9bbb-b199fe1ebaa8",
   "metadata": {
    "tags": []
   },
   "outputs": [
    {
     "name": "stdout",
     "output_type": "stream",
     "text": [
      "Accuracy: 0.3392857142857143\n"
     ]
    }
   ],
   "source": [
    "# Calculating accuracy:\n",
    "accuracy = accuracy_score(Y_train, h_w_x, normalize=True)\n",
    "\n",
    "print(f\"Accuracy: {accuracy}\")"
   ]
  },
  {
   "cell_type": "code",
   "execution_count": 72,
   "id": "8569dafb-4d49-4fd4-ba99-d032897473d8",
   "metadata": {
    "tags": []
   },
   "outputs": [
    {
     "name": "stdout",
     "output_type": "stream",
     "text": [
      "Training hinge loss: 1.575118860079068\n"
     ]
    }
   ],
   "source": [
    "# Calculating hinge loss:\n",
    "hinge_loss_ = hinge_loss(Y_train, clf_multiclass_2d.decision_function(X_train_fs_2d))\n",
    "\n",
    "print(f\"Training hinge loss: {hinge_loss_}\")"
   ]
  },
  {
   "cell_type": "markdown",
   "id": "0a1d8b45-72a3-480a-9efe-39446fe302cf",
   "metadata": {
    "tags": []
   },
   "source": [
    "### Calculate the accuracy and hinge loss on the testing set"
   ]
  },
  {
   "cell_type": "code",
   "execution_count": 73,
   "id": "efb429ee-0445-46d9-9cf2-89b800b80584",
   "metadata": {
    "tags": []
   },
   "outputs": [],
   "source": [
    "# Predicting:\n",
    "h_w_x = clf_multiclass_2d.predict(X_test_fs_2d)"
   ]
  },
  {
   "cell_type": "code",
   "execution_count": 74,
   "id": "53525aca-5800-4602-a872-27563baa5d2e",
   "metadata": {
    "tags": []
   },
   "outputs": [
    {
     "name": "stdout",
     "output_type": "stream",
     "text": [
      "Accuracy: 0.3157894736842105\n"
     ]
    }
   ],
   "source": [
    "# Calculating accuracy:\n",
    "accuracy = accuracy_score(Y_test, h_w_x, normalize=True)\n",
    "\n",
    "print(f\"Accuracy: {accuracy}\")"
   ]
  },
  {
   "cell_type": "code",
   "execution_count": 75,
   "id": "9a3b1b47-4532-49ef-8607-56c9c0767e64",
   "metadata": {
    "tags": []
   },
   "outputs": [
    {
     "name": "stdout",
     "output_type": "stream",
     "text": [
      "Training hinge loss: 1.6311527580574239\n"
     ]
    }
   ],
   "source": [
    "# Calculating hinge loss:\n",
    "hinge_loss_ = hinge_loss(Y_test, clf_multiclass_2d.decision_function(X_test_fs_2d))\n",
    "\n",
    "print(f\"Training hinge loss: {hinge_loss_}\")"
   ]
  },
  {
   "cell_type": "markdown",
   "id": "1dc5a493-0077-429b-b5e8-21019e2a4caf",
   "metadata": {
    "tags": []
   },
   "source": [
    "### Plot the decision boundary with each point colored with its groundtruth class in 2D\n",
    "- encircle your support vectors"
   ]
  },
  {
   "cell_type": "code",
   "execution_count": 76,
   "id": "7d5719d7-1646-4322-93b0-426734fa91a9",
   "metadata": {
    "tags": []
   },
   "outputs": [
    {
     "name": "stderr",
     "output_type": "stream",
     "text": [
      "No artists with labels found to put in legend.  Note that artists whose label start with an underscore are ignored when legend() is called with no argument.\n"
     ]
    },
    {
     "data": {
      "image/png": "[encoded data removed]",
      "text/plain": [
       "<Figure size 432x288 with 1 Axes>"
      ]
     },
     "metadata": {},
     "output_type": "display_data"
    }
   ],
   "source": [
    "# Predicting and plotting on the TRAIN dataset:\n",
    "def make_meshgrid(x, y, h=.02):\n",
    "    x_min, x_max = x.min() - 1, x.max() + 1\n",
    "    y_min, y_max = y.min() - 1, y.max() + 1\n",
    "    xx, yy = np.meshgrid(np.arange(x_min, x_max, h), np.arange(y_min, y_max, h))\n",
    "    return xx, yy\n",
    "\n",
    "def plot_contours(ax, clf_multiclass_2d, xx, yy, **params):\n",
    "    Z = clf_multiclass_2d.predict(np.c_[xx.ravel(), yy.ravel()])\n",
    "    Z = Z.reshape(xx.shape)\n",
    "    out = ax.contourf(xx, yy, Z, **params)\n",
    "    return out\n",
    "\n",
    "fig, ax = plt.subplots()\n",
    "# title for the plots\n",
    "title = ('Decision surface of linear SVC ')\n",
    "# Set-up grid for plotting.\n",
    "X0, X1 = X_train_fs_2d[:, 0], X_train_fs_2d[:, 1]\n",
    "xx, yy = make_meshgrid(X0, X1)\n",
    "\n",
    "\n",
    "plot_contours(ax, clf_multiclass_2d, xx, yy, cmap=plt.cm.coolwarm, alpha=0.8)\n",
    "ax.scatter(X0, X1, c=Y_train, cmap=plt.cm.coolwarm, s=20, edgecolors='k')\n",
    "\n",
    "# Encircle support vectors\n",
    "plt.scatter(model.support_vectors_[:, 0],\n",
    "            model.support_vectors_[:, 1], \n",
    "            s=50, \n",
    "            facecolors='none', \n",
    "            edgecolors='yellow', \n",
    "            alpha=.5)\n",
    "ax.set_ylabel(f'{iris_df.iloc[:, 1].name}')\n",
    "ax.set_xlabel(f'{iris_df.iloc[:, 0].name}')\n",
    "ax.set_xticks(())\n",
    "ax.set_yticks(())\n",
    "ax.set_title(title)\n",
    "ax.legend()\n",
    "plt.show()"
   ]
  },
  {
   "cell_type": "code",
   "execution_count": 77,
   "id": "d80671e7-f38d-4db1-b325-a8b25c9f1df8",
   "metadata": {
    "tags": []
   },
   "outputs": [
    {
     "name": "stderr",
     "output_type": "stream",
     "text": [
      "No artists with labels found to put in legend.  Note that artists whose label start with an underscore are ignored when legend() is called with no argument.\n"
     ]
    },
    {
     "data": {
      "image/png": "[encoded data removed]",
      "text/plain": [
       "<Figure size 432x288 with 1 Axes>"
      ]
     },
     "metadata": {},
     "output_type": "display_data"
    }
   ],
   "source": [
    "# Predicting and plotting on the TEST dataset:\n",
    "fig, ax = plt.subplots()\n",
    "# title for the plots\n",
    "title = ('Decision surface of linear SVC ')\n",
    "# Set-up grid for plotting.\n",
    "X0, X1 = X_test_fs_2d[:, 0], X_test_fs_2d[:, 1]\n",
    "xx, yy = make_meshgrid(X0, X1)\n",
    "\n",
    "\n",
    "plot_contours(ax, clf_multiclass_2d, xx, yy, cmap=plt.cm.coolwarm, alpha=0.8)\n",
    "ax.scatter(X0, X1, c=Y_test, cmap=plt.cm.coolwarm, s=20, edgecolors='k')\n",
    "\n",
    "# Encircle support vectors\n",
    "plt.scatter(model.support_vectors_[:, 0],\n",
    "            model.support_vectors_[:, 1], \n",
    "            s=50, \n",
    "            facecolors='none', \n",
    "            edgecolors='yellow', \n",
    "            alpha=.5)\n",
    "ax.set_ylabel(f'{iris_df.iloc[:, 1].name}')\n",
    "ax.set_xlabel(f'{iris_df.iloc[:, 0].name}')\n",
    "ax.set_xticks(())\n",
    "ax.set_yticks(())\n",
    "ax.set_title(title)\n",
    "ax.legend()\n",
    "plt.show()"
   ]
  },
  {
   "cell_type": "markdown",
   "id": "e6f443bd-4d05-43c7-8464-7ebb89c1d906",
   "metadata": {},
   "source": [
    "## Train, predict and plot svm on 3d prepared data with the following configuration:\n",
    "\n",
    "- kernel=\"linear\", C=0.0001"
   ]
  },
  {
   "cell_type": "code",
   "execution_count": 78,
   "id": "3ee64e2d-3e4d-4ca8-88c5-a129418f897f",
   "metadata": {
    "tags": []
   },
   "outputs": [],
   "source": [
    "# Training the model:\n",
    "model = SVC(kernel='linear', C=0.0001)\n",
    "clf_binary_3d = model.fit(X_train_bin_3d, Y_train_bin)"
   ]
  },
  {
   "cell_type": "markdown",
   "id": "c919b0c9-a539-40a8-8184-6e751b4d2ac3",
   "metadata": {},
   "source": [
    "### Plot 3D graph using binary training data with hyperplane separating the 2 points\n",
    "    - Hint: You will hot have a plane perfectly seperating the data because it is underfit"
   ]
  },
  {
   "cell_type": "code",
   "execution_count": 79,
   "id": "eaccddd1-74af-4b63-b02f-7a99a1aaa773",
   "metadata": {
    "tags": []
   },
   "outputs": [
    {
     "data": {
      "image/png": "[encoded data removed]",
      "text/plain": [
       "<Figure size 432x288 with 1 Axes>"
      ]
     },
     "metadata": {
      "needs_background": "light"
     },
     "output_type": "display_data"
    }
   ],
   "source": [
    "# The equation of the separating plane is given by all x so that np.dot(svc.coef_[0], x) + b = 0.\n",
    "# Solve for w3 (z)\n",
    "z = lambda x,y: (-clf_binary_3d.intercept_[0]-clf_binary_3d.coef_[0][0]*x -clf_binary_3d.coef_[0][1]*y) / clf_binary_3d.coef_[0][2]\n",
    "\n",
    "tmp = np.linspace(-5,5,30)\n",
    "x,y = np.meshgrid(tmp,tmp)\n",
    "\n",
    "fig = plt.figure()\n",
    "ax  = fig.add_subplot(111, projection='3d')\n",
    "ax.plot3D(X_train_bin_3d.values[Y_train_bin.values==0,0], X_train_bin_3d.values[Y_train_bin.values==0,1], X_train_bin_3d.values[Y_train_bin.values==0,2],'ob')\n",
    "ax.plot3D(X_train_bin_3d.values[Y_train_bin.values==1,0], X_train_bin_3d.values[Y_train_bin.values==1,1], X_train_bin_3d.values[Y_train_bin.values==1,2],'sr')\n",
    "ax.plot_surface(x, y, z(x,y))\n",
    "ax.view_init(30, 60)\n",
    "plt.show()"
   ]
  },
  {
   "cell_type": "markdown",
   "id": "fac232cf-77d9-473b-a883-82ea88e32fff",
   "metadata": {},
   "source": [
    "### Get the accuracy and hinge loss of the testing set"
   ]
  },
  {
   "cell_type": "code",
   "execution_count": 80,
   "id": "822fa324-5650-42ba-988e-727b494febb0",
   "metadata": {
    "tags": []
   },
   "outputs": [],
   "source": [
    "# Predicting:\n",
    "h_w_x = clf_binary_3d.predict(X_test_bin_3d)"
   ]
  },
  {
   "cell_type": "code",
   "execution_count": 81,
   "id": "bcdf4dca-cbb8-49a8-bfea-a2de0cd5bd8d",
   "metadata": {
    "tags": []
   },
   "outputs": [
    {
     "name": "stdout",
     "output_type": "stream",
     "text": [
      "Accuracy: 0.48\n"
     ]
    }
   ],
   "source": [
    "# Calculating accuracy:\n",
    "accuracy = accuracy_score(Y_test_bin, h_w_x, normalize=True)\n",
    "\n",
    "print(f\"Accuracy: {accuracy}\")"
   ]
  },
  {
   "cell_type": "code",
   "execution_count": 82,
   "id": "b5b14688-baff-48ca-ae9f-b42d5643b6e2",
   "metadata": {
    "tags": []
   },
   "outputs": [
    {
     "name": "stdout",
     "output_type": "stream",
     "text": [
      "Training hinge loss: 1.0220450600009157\n"
     ]
    }
   ],
   "source": [
    "# Calculating hinge loss:\n",
    "hinge_loss_ = hinge_loss(Y_test_bin, clf_binary_3d.decision_function(X_test_bin_3d))\n",
    "\n",
    "print(f\"Training hinge loss: {hinge_loss_}\")"
   ]
  },
  {
   "cell_type": "markdown",
   "id": "95f6fe2d-0740-417f-85b6-7f5856400041",
   "metadata": {
    "tags": []
   },
   "source": [
    "## Train, predict and plot svm on 2d prepared data with the following configuration:\n",
    "\n",
    "- kernel=\"poly\", C=1.0, degree=2, coef0=0.0, gamma=\"scale\""
   ]
  },
  {
   "cell_type": "code",
   "execution_count": 84,
   "id": "771b2acd-3d89-4734-828c-624c185b610c",
   "metadata": {
    "tags": []
   },
   "outputs": [],
   "source": [
    "# Training the model:\n",
    "model_poly = SVC(kernel=\"poly\", C=1.0, degree=2, coef0=0.0, gamma=\"scale\")\n",
    "clf_multiclass_2d = model_poly.fit(X_train_fs_2d, Y_train)"
   ]
  },
  {
   "cell_type": "markdown",
   "id": "c0b4a033-1ded-4bff-aa09-6e3a42d3ff25",
   "metadata": {},
   "source": [
    "### Calculate the accuracy and hinge loss on the training set"
   ]
  },
  {
   "cell_type": "code",
   "execution_count": 85,
   "id": "d1e7638f-1a92-4ac8-8215-65284edc0c69",
   "metadata": {
    "tags": []
   },
   "outputs": [],
   "source": [
    "# Predicting:\n",
    "h_w_x = clf_multiclass_2d.predict(X_train_fs_2d)"
   ]
  },
  {
   "cell_type": "code",
   "execution_count": 86,
   "id": "ac7f55c0-f8d1-40df-8688-a28947ef57e1",
   "metadata": {
    "tags": []
   },
   "outputs": [
    {
     "name": "stdout",
     "output_type": "stream",
     "text": [
      "Accuracy: 0.8125\n"
     ]
    }
   ],
   "source": [
    "# Calculating accuracy:\n",
    "accuracy = accuracy_score(Y_train, h_w_x, normalize=True)\n",
    "\n",
    "print(f\"Accuracy: {accuracy}\")"
   ]
  },
  {
   "cell_type": "code",
   "execution_count": 87,
   "id": "d3210210-09c8-47a4-b423-9fc7b586ebb4",
   "metadata": {
    "tags": []
   },
   "outputs": [
    {
     "name": "stdout",
     "output_type": "stream",
     "text": [
      "Training hinge loss: 0.381934321235046\n"
     ]
    }
   ],
   "source": [
    "# Calculating hinge loss:\n",
    "hinge_loss_ = hinge_loss(Y_train, clf_multiclass_2d.decision_function(X_train_fs_2d))\n",
    "\n",
    "print(f\"Training hinge loss: {hinge_loss_}\")"
   ]
  },
  {
   "cell_type": "markdown",
   "id": "f91cb6e4-e1c4-4463-beb2-04a92ab9bb04",
   "metadata": {
    "tags": []
   },
   "source": [
    "### Calculate the accuracy and hinge loss on the testing set"
   ]
  },
  {
   "cell_type": "code",
   "execution_count": 88,
   "id": "3a186333-b4d5-43d2-810c-136e7b227bcd",
   "metadata": {
    "tags": []
   },
   "outputs": [],
   "source": [
    "# Predicting:\n",
    "h_w_x = clf_multiclass_2d.predict(X_test_fs_2d)"
   ]
  },
  {
   "cell_type": "code",
   "execution_count": 89,
   "id": "e294b621-453c-4911-b5bf-a32651d715c2",
   "metadata": {
    "tags": []
   },
   "outputs": [
    {
     "name": "stdout",
     "output_type": "stream",
     "text": [
      "Accuracy: 0.8421052631578947\n"
     ]
    }
   ],
   "source": [
    "# Calculating accuracy:\n",
    "accuracy = accuracy_score(Y_test, h_w_x, normalize=True)\n",
    "\n",
    "print(f\"Accuracy: {accuracy}\")"
   ]
  },
  {
   "cell_type": "code",
   "execution_count": 90,
   "id": "995feebe-a4ea-466f-a1e2-deb0f93f68d2",
   "metadata": {
    "tags": []
   },
   "outputs": [
    {
     "name": "stdout",
     "output_type": "stream",
     "text": [
      "Training hinge loss: 0.32211937623796044\n"
     ]
    }
   ],
   "source": [
    "# Calculating hinge loss:\n",
    "hinge_loss_ = hinge_loss(Y_test, clf_multiclass_2d.decision_function(X_test_fs_2d))\n",
    "\n",
    "print(f\"Training hinge loss: {hinge_loss_}\")"
   ]
  },
  {
   "cell_type": "markdown",
   "id": "580ce154-ae0f-4ccf-a16a-d1a900185908",
   "metadata": {},
   "source": [
    "### Plot the decision boundary with each point colored with its groundtruth class in 2D\n",
    "- encircle your support vectors"
   ]
  },
  {
   "cell_type": "code",
   "execution_count": 91,
   "id": "578d8d32-d726-4108-8b9c-883b5be1fe90",
   "metadata": {
    "tags": []
   },
   "outputs": [
    {
     "name": "stderr",
     "output_type": "stream",
     "text": [
      "No artists with labels found to put in legend.  Note that artists whose label start with an underscore are ignored when legend() is called with no argument.\n"
     ]
    },
    {
     "data": {
      "image/png": "[encoded data removed]",
      "text/plain": [
       "<Figure size 432x288 with 1 Axes>"
      ]
     },
     "metadata": {},
     "output_type": "display_data"
    }
   ],
   "source": [
    "# Predicting and plotting on the TRAIN dataset:\n",
    "def make_meshgrid(x, y, h=.02):\n",
    "    x_min, x_max = x.min() - 1, x.max() + 1\n",
    "    y_min, y_max = y.min() - 1, y.max() + 1\n",
    "    xx, yy = np.meshgrid(np.arange(x_min, x_max, h), np.arange(y_min, y_max, h))\n",
    "    return xx, yy\n",
    "\n",
    "def plot_contours(ax, clf_multiclass_2d, xx, yy, **params):\n",
    "    Z = clf_multiclass_2d.predict(np.c_[xx.ravel(), yy.ravel()])\n",
    "    Z = Z.reshape(xx.shape)\n",
    "    out = ax.contourf(xx, yy, Z, **params)\n",
    "    return out\n",
    "\n",
    "fig, ax = plt.subplots()\n",
    "# title for the plots\n",
    "title = ('Decision surface of linear SVC ')\n",
    "# Set-up grid for plotting.\n",
    "X0, X1 = X_train_fs_2d[:, 0], X_train_fs_2d[:, 1]\n",
    "xx, yy = make_meshgrid(X0, X1)\n",
    "\n",
    "\n",
    "plot_contours(ax, clf_multiclass_2d, xx, yy, cmap=plt.cm.coolwarm, alpha=0.8)\n",
    "ax.scatter(X0, X1, c=Y_train, cmap=plt.cm.coolwarm, s=20, edgecolors='k')\n",
    "\n",
    "# Encircle support vectors\n",
    "plt.scatter(model.support_vectors_[:, 0],\n",
    "            model.support_vectors_[:, 1], \n",
    "            s=50, \n",
    "            facecolors='none', \n",
    "            edgecolors='yellow', \n",
    "            alpha=.5)\n",
    "ax.set_ylabel(f'{iris_df.iloc[:, 1].name}')\n",
    "ax.set_xlabel(f'{iris_df.iloc[:, 0].name}')\n",
    "ax.set_xticks(())\n",
    "ax.set_yticks(())\n",
    "ax.set_title(title)\n",
    "ax.legend()\n",
    "plt.show()"
   ]
  },
  {
   "cell_type": "code",
   "execution_count": 92,
   "id": "ac800bdd-7ac2-45e0-906b-6fdb08320d55",
   "metadata": {
    "tags": []
   },
   "outputs": [
    {
     "name": "stderr",
     "output_type": "stream",
     "text": [
      "No artists with labels found to put in legend.  Note that artists whose label start with an underscore are ignored when legend() is called with no argument.\n"
     ]
    },
    {
     "data": {
      "image/png": "[encoded data removed]",
      "text/plain": [
       "<Figure size 432x288 with 1 Axes>"
      ]
     },
     "metadata": {},
     "output_type": "display_data"
    }
   ],
   "source": [
    "# Predicting and plotting on the TEST dataset:\n",
    "fig, ax = plt.subplots()\n",
    "# title for the plots\n",
    "title = ('Decision surface of linear SVC ')\n",
    "# Set-up grid for plotting.\n",
    "X0, X1 = X_test_fs_2d[:, 0], X_test_fs_2d[:, 1]\n",
    "xx, yy = make_meshgrid(X0, X1)\n",
    "\n",
    "\n",
    "plot_contours(ax, clf_multiclass_2d, xx, yy, cmap=plt.cm.coolwarm, alpha=0.8)\n",
    "ax.scatter(X0, X1, c=Y_test, cmap=plt.cm.coolwarm, s=20, edgecolors='k')\n",
    "\n",
    "# Encircle support vectors\n",
    "plt.scatter(model.support_vectors_[:, 0],\n",
    "            model.support_vectors_[:, 1], \n",
    "            s=50, \n",
    "            facecolors='none', \n",
    "            edgecolors='yellow', \n",
    "            alpha=.5)\n",
    "ax.set_ylabel(f'{iris_df.iloc[:, 1].name}')\n",
    "ax.set_xlabel(f'{iris_df.iloc[:, 0].name}')\n",
    "ax.set_xticks(())\n",
    "ax.set_yticks(())\n",
    "ax.set_title(title)\n",
    "ax.legend()\n",
    "plt.show()"
   ]
  },
  {
   "cell_type": "markdown",
   "id": "6b65ce20-530f-4d3c-8e98-a58d5197ead6",
   "metadata": {},
   "source": [
    "## Train, predict and plot svm on 2d prepared data with the following configuration:\n",
    "\n",
    "- kernel=\"poly\", C=1.0, degree=3, coef0=0.0, gamma=\"scale\""
   ]
  },
  {
   "cell_type": "code",
   "execution_count": 93,
   "id": "7ba3405f-b244-4eca-b015-0d0f6c70fd92",
   "metadata": {
    "tags": []
   },
   "outputs": [],
   "source": [
    "# Training the model:\n",
    "model_poly = SVC(kernel=\"poly\", C=1.0, degree=3, coef0=0.0, gamma=\"scale\")\n",
    "clf_multiclass_2d = model_poly.fit(X_train_fs_2d, Y_train)"
   ]
  },
  {
   "cell_type": "markdown",
   "id": "4db26c5f-1374-4580-935b-eca5197ef285",
   "metadata": {},
   "source": [
    "### Calculate the accuracy and hinge loss on the training set"
   ]
  },
  {
   "cell_type": "code",
   "execution_count": 94,
   "id": "4f3d653e-0b54-4f9f-b4bd-4a94b28999ce",
   "metadata": {
    "tags": []
   },
   "outputs": [],
   "source": [
    "# Predicting:\n",
    "h_w_x = clf_multiclass_2d.predict(X_train_fs_2d)"
   ]
  },
  {
   "cell_type": "code",
   "execution_count": 95,
   "id": "271aa396-1c73-4397-a7bd-93c858e60517",
   "metadata": {
    "tags": []
   },
   "outputs": [
    {
     "name": "stdout",
     "output_type": "stream",
     "text": [
      "Accuracy: 0.9375\n"
     ]
    }
   ],
   "source": [
    "# Calculating accuracy:\n",
    "accuracy = accuracy_score(Y_train, h_w_x, normalize=True)\n",
    "\n",
    "print(f\"Accuracy: {accuracy}\")"
   ]
  },
  {
   "cell_type": "code",
   "execution_count": 96,
   "id": "9e9f0881-894a-41d4-8e96-a9756abf539a",
   "metadata": {
    "tags": []
   },
   "outputs": [
    {
     "name": "stdout",
     "output_type": "stream",
     "text": [
      "Training hinge loss: 0.1318148663394509\n"
     ]
    }
   ],
   "source": [
    "# Calculating hinge loss:\n",
    "hinge_loss_ = hinge_loss(Y_train, clf_multiclass_2d.decision_function(X_train_fs_2d))\n",
    "\n",
    "print(f\"Training hinge loss: {hinge_loss_}\")"
   ]
  },
  {
   "cell_type": "markdown",
   "id": "a4713965-41bd-4a8d-825d-80a73bd4e4b9",
   "metadata": {
    "tags": []
   },
   "source": [
    "### Calculate the accuracy and hinge loss on the testing set"
   ]
  },
  {
   "cell_type": "code",
   "execution_count": 97,
   "id": "b5a311bc-2969-4e3e-8edf-cc483fc9258e",
   "metadata": {
    "tags": []
   },
   "outputs": [],
   "source": [
    "# Predicting:\n",
    "h_w_x = clf_multiclass_2d.predict(X_test_fs_2d)"
   ]
  },
  {
   "cell_type": "code",
   "execution_count": 98,
   "id": "681ee246-057e-4ca2-b7e6-4914eddbae68",
   "metadata": {
    "tags": []
   },
   "outputs": [
    {
     "name": "stdout",
     "output_type": "stream",
     "text": [
      "Accuracy: 0.9736842105263158\n"
     ]
    }
   ],
   "source": [
    "# Calculating accuracy:\n",
    "accuracy = accuracy_score(Y_test, h_w_x, normalize=True)\n",
    "\n",
    "print(f\"Accuracy: {accuracy}\")"
   ]
  },
  {
   "cell_type": "code",
   "execution_count": 99,
   "id": "25b4e594-45e0-4288-830a-0556f5de6a33",
   "metadata": {
    "tags": []
   },
   "outputs": [
    {
     "name": "stdout",
     "output_type": "stream",
     "text": [
      "Training hinge loss: 0.05675145079318143\n"
     ]
    }
   ],
   "source": [
    "# Calculating hinge loss:\n",
    "hinge_loss_ = hinge_loss(Y_test, clf_multiclass_2d.decision_function(X_test_fs_2d))\n",
    "\n",
    "print(f\"Training hinge loss: {hinge_loss_}\")"
   ]
  },
  {
   "cell_type": "markdown",
   "id": "a2cd4fd6-f071-49e1-b43c-16e0e18b3aa8",
   "metadata": {},
   "source": [
    "### Plot the decision boundary with each point colored with its groundtruth class in 2D\n",
    "- encircle your support vectors"
   ]
  },
  {
   "cell_type": "code",
   "execution_count": 100,
   "id": "14fa9ee6-54b4-4db5-b529-05f8c43176c9",
   "metadata": {
    "tags": []
   },
   "outputs": [
    {
     "name": "stderr",
     "output_type": "stream",
     "text": [
      "No artists with labels found to put in legend.  Note that artists whose label start with an underscore are ignored when legend() is called with no argument.\n"
     ]
    },
    {
     "data": {
      "image/png": "[encoded data removed]",
      "text/plain": [
       "<Figure size 432x288 with 1 Axes>"
      ]
     },
     "metadata": {},
     "output_type": "display_data"
    }
   ],
   "source": [
    "# Predicting and plotting on the TRAIN dataset:\n",
    "def make_meshgrid(x, y, h=.02):\n",
    "    x_min, x_max = x.min() - 1, x.max() + 1\n",
    "    y_min, y_max = y.min() - 1, y.max() + 1\n",
    "    xx, yy = np.meshgrid(np.arange(x_min, x_max, h), np.arange(y_min, y_max, h))\n",
    "    return xx, yy\n",
    "\n",
    "def plot_contours(ax, clf_multiclass_2d, xx, yy, **params):\n",
    "    Z = clf_multiclass_2d.predict(np.c_[xx.ravel(), yy.ravel()])\n",
    "    Z = Z.reshape(xx.shape)\n",
    "    out = ax.contourf(xx, yy, Z, **params)\n",
    "    return out\n",
    "\n",
    "fig, ax = plt.subplots()\n",
    "# title for the plots\n",
    "title = ('Decision surface of linear SVC ')\n",
    "# Set-up grid for plotting.\n",
    "X0, X1 = X_train_fs_2d[:, 0], X_train_fs_2d[:, 1]\n",
    "xx, yy = make_meshgrid(X0, X1)\n",
    "\n",
    "\n",
    "plot_contours(ax, clf_multiclass_2d, xx, yy, cmap=plt.cm.coolwarm, alpha=0.8)\n",
    "ax.scatter(X0, X1, c=Y_train, cmap=plt.cm.coolwarm, s=20, edgecolors='k')\n",
    "\n",
    "# Encircle support vectors\n",
    "plt.scatter(model.support_vectors_[:, 0],\n",
    "            model.support_vectors_[:, 1], \n",
    "            s=50, \n",
    "            facecolors='none', \n",
    "            edgecolors='yellow', \n",
    "            alpha=.5)\n",
    "ax.set_ylabel(f'{iris_df.iloc[:, 1].name}')\n",
    "ax.set_xlabel(f'{iris_df.iloc[:, 0].name}')\n",
    "ax.set_xticks(())\n",
    "ax.set_yticks(())\n",
    "ax.set_title(title)\n",
    "ax.legend()\n",
    "plt.show()"
   ]
  },
  {
   "cell_type": "code",
   "execution_count": 101,
   "id": "00088178-db62-4f3d-980a-3d04b9b42993",
   "metadata": {
    "tags": []
   },
   "outputs": [
    {
     "name": "stderr",
     "output_type": "stream",
     "text": [
      "No artists with labels found to put in legend.  Note that artists whose label start with an underscore are ignored when legend() is called with no argument.\n"
     ]
    },
    {
     "data": {
      "image/png": "[encoded data removed]",
      "text/plain": [
       "<Figure size 432x288 with 1 Axes>"
      ]
     },
     "metadata": {},
     "output_type": "display_data"
    }
   ],
   "source": [
    "# Predicting and plotting on the TEST dataset:\n",
    "fig, ax = plt.subplots()\n",
    "# title for the plots\n",
    "title = ('Decision surface of linear SVC ')\n",
    "# Set-up grid for plotting.\n",
    "X0, X1 = X_test_fs_2d[:, 0], X_test_fs_2d[:, 1]\n",
    "xx, yy = make_meshgrid(X0, X1)\n",
    "\n",
    "\n",
    "plot_contours(ax, clf_multiclass_2d, xx, yy, cmap=plt.cm.coolwarm, alpha=0.8)\n",
    "ax.scatter(X0, X1, c=Y_test, cmap=plt.cm.coolwarm, s=20, edgecolors='k')\n",
    "\n",
    "# Encircle support vectors\n",
    "plt.scatter(model.support_vectors_[:, 0],\n",
    "            model.support_vectors_[:, 1], \n",
    "            s=50, \n",
    "            facecolors='none', \n",
    "            edgecolors='yellow', \n",
    "            alpha=.5)\n",
    "ax.set_ylabel(f'{iris_df.iloc[:, 1].name}')\n",
    "ax.set_xlabel(f'{iris_df.iloc[:, 0].name}')\n",
    "ax.set_xticks(())\n",
    "ax.set_yticks(())\n",
    "ax.set_title(title)\n",
    "ax.legend()\n",
    "plt.show()"
   ]
  },
  {
   "cell_type": "markdown",
   "id": "e525d3e6-4b92-492f-9d75-51d5e8f06619",
   "metadata": {},
   "source": [
    "## Train, predict and plot svm on 2d prepared data with the following configuration:\n",
    "\n",
    "- kernel=\"rbf\", C=1.0, gamma=\"scale\""
   ]
  },
  {
   "cell_type": "code",
   "execution_count": 108,
   "id": "954276d3-c10d-46a5-b548-4ba391ff7ebb",
   "metadata": {
    "tags": []
   },
   "outputs": [],
   "source": [
    "# Training the model:\n",
    "model_rbf = SVC(kernel=\"rbf\", C=1.0, gamma=\"scale\")\n",
    "clf_multiclass_2d = model_rbf.fit(X_train_fs_2d, Y_train)"
   ]
  },
  {
   "cell_type": "markdown",
   "id": "9d703f25-c623-45de-8531-2d77420b1328",
   "metadata": {},
   "source": [
    "### Calculate the accuracy and hinge loss on the training set"
   ]
  },
  {
   "cell_type": "code",
   "execution_count": 109,
   "id": "0c026f61-8bea-413f-b222-46bb491fac84",
   "metadata": {
    "tags": []
   },
   "outputs": [],
   "source": [
    "# Predicting:\n",
    "h_w_x = clf_multiclass_2d.predict(X_train_fs_2d)"
   ]
  },
  {
   "cell_type": "code",
   "execution_count": 110,
   "id": "5c5be751-d650-44cf-b00d-ef9a1f2403c8",
   "metadata": {
    "tags": []
   },
   "outputs": [
    {
     "name": "stdout",
     "output_type": "stream",
     "text": [
      "Accuracy: 0.9553571428571429\n"
     ]
    }
   ],
   "source": [
    "# Calculating accuracy:\n",
    "accuracy = accuracy_score(Y_train, h_w_x, normalize=True)\n",
    "\n",
    "print(f\"Accuracy: {accuracy}\")"
   ]
  },
  {
   "cell_type": "code",
   "execution_count": 111,
   "id": "82521ec4-0d8e-4075-aedb-30d9cf43edc2",
   "metadata": {
    "tags": []
   },
   "outputs": [
    {
     "name": "stdout",
     "output_type": "stream",
     "text": [
      "Training hinge loss: 0.09221400120244325\n"
     ]
    }
   ],
   "source": [
    "# Calculating hinge loss:\n",
    "hinge_loss_ = hinge_loss(Y_train, clf_multiclass_2d.decision_function(X_train_fs_2d))\n",
    "\n",
    "print(f\"Training hinge loss: {hinge_loss_}\")"
   ]
  },
  {
   "cell_type": "markdown",
   "id": "5938e0d2-e61a-494f-acf4-d8b47bf84820",
   "metadata": {
    "tags": []
   },
   "source": [
    "### Calculate the accuracy and hinge loss on the testing set"
   ]
  },
  {
   "cell_type": "code",
   "execution_count": 112,
   "id": "cf51c203-78e3-4928-a53e-d41f58bca7a8",
   "metadata": {
    "tags": []
   },
   "outputs": [],
   "source": [
    "# Predicting:\n",
    "h_w_x = clf_multiclass_2d.predict(X_test_fs_2d)"
   ]
  },
  {
   "cell_type": "code",
   "execution_count": 113,
   "id": "579b5c8f-2a28-44b2-b015-4984671d2d64",
   "metadata": {
    "tags": []
   },
   "outputs": [
    {
     "name": "stdout",
     "output_type": "stream",
     "text": [
      "Accuracy: 0.9736842105263158\n"
     ]
    }
   ],
   "source": [
    "# Calculating accuracy:\n",
    "accuracy = accuracy_score(Y_test, h_w_x, normalize=True)\n",
    "\n",
    "print(f\"Accuracy: {accuracy}\")"
   ]
  },
  {
   "cell_type": "code",
   "execution_count": 114,
   "id": "5d26669a-8e2d-46da-b08a-cd39e9b86d54",
   "metadata": {
    "tags": []
   },
   "outputs": [
    {
     "name": "stdout",
     "output_type": "stream",
     "text": [
      "Training hinge loss: 0.05382871503348169\n"
     ]
    }
   ],
   "source": [
    "# Calculating hinge loss:\n",
    "hinge_loss_ = hinge_loss(Y_test, clf_multiclass_2d.decision_function(X_test_fs_2d))\n",
    "\n",
    "print(f\"Training hinge loss: {hinge_loss_}\")"
   ]
  },
  {
   "cell_type": "markdown",
   "id": "b74faea3-70a6-47d0-afc2-0449c6fc3c4e",
   "metadata": {},
   "source": [
    "### Plot the decision boundary with each point colored with its groundtruth class in 2D\n",
    "- encircle your support vectors"
   ]
  },
  {
   "cell_type": "code",
   "execution_count": 115,
   "id": "cf598350-6e57-4912-9502-f44197f20c87",
   "metadata": {
    "tags": []
   },
   "outputs": [
    {
     "name": "stderr",
     "output_type": "stream",
     "text": [
      "No artists with labels found to put in legend.  Note that artists whose label start with an underscore are ignored when legend() is called with no argument.\n"
     ]
    },
    {
     "data": {
      "image/png": "[encoded data removed]",
      "text/plain": [
       "<Figure size 432x288 with 1 Axes>"
      ]
     },
     "metadata": {},
     "output_type": "display_data"
    }
   ],
   "source": [
    "# Predicting and plotting on the TRAIN dataset:\n",
    "def make_meshgrid(x, y, h=.02):\n",
    "    x_min, x_max = x.min() - 1, x.max() + 1\n",
    "    y_min, y_max = y.min() - 1, y.max() + 1\n",
    "    xx, yy = np.meshgrid(np.arange(x_min, x_max, h), np.arange(y_min, y_max, h))\n",
    "    return xx, yy\n",
    "\n",
    "def plot_contours(ax, clf_multiclass_2d, xx, yy, **params):\n",
    "    Z = clf_multiclass_2d.predict(np.c_[xx.ravel(), yy.ravel()])\n",
    "    Z = Z.reshape(xx.shape)\n",
    "    out = ax.contourf(xx, yy, Z, **params)\n",
    "    return out\n",
    "\n",
    "fig, ax = plt.subplots()\n",
    "# title for the plots\n",
    "title = ('Decision surface of linear SVC ')\n",
    "# Set-up grid for plotting.\n",
    "X0, X1 = X_train_fs_2d[:, 0], X_train_fs_2d[:, 1]\n",
    "xx, yy = make_meshgrid(X0, X1)\n",
    "\n",
    "\n",
    "plot_contours(ax, clf_multiclass_2d, xx, yy, cmap=plt.cm.coolwarm, alpha=0.8)\n",
    "ax.scatter(X0, X1, c=Y_train, cmap=plt.cm.coolwarm, s=20, edgecolors='k')\n",
    "\n",
    "# Encircle support vectors\n",
    "plt.scatter(model.support_vectors_[:, 0],\n",
    "            model.support_vectors_[:, 1], \n",
    "            s=50, \n",
    "            facecolors='none', \n",
    "            edgecolors='yellow', \n",
    "            alpha=.5)\n",
    "ax.set_ylabel(f'{iris_df.iloc[:, 1].name}')\n",
    "ax.set_xlabel(f'{iris_df.iloc[:, 0].name}')\n",
    "ax.set_xticks(())\n",
    "ax.set_yticks(())\n",
    "ax.set_title(title)\n",
    "ax.legend()\n",
    "plt.show()"
   ]
  },
  {
   "cell_type": "code",
   "execution_count": 116,
   "id": "32a7c34a-d5da-4515-9315-0bda8881e51f",
   "metadata": {
    "tags": []
   },
   "outputs": [
    {
     "name": "stderr",
     "output_type": "stream",
     "text": [
      "No artists with labels found to put in legend.  Note that artists whose label start with an underscore are ignored when legend() is called with no argument.\n"
     ]
    },
    {
     "data": {
      "image/png": "[encoded data removed]",
      "text/plain": [
       "<Figure size 432x288 with 1 Axes>"
      ]
     },
     "metadata": {},
     "output_type": "display_data"
    }
   ],
   "source": [
    "# Predicting and plotting on the TEST dataset:\n",
    "fig, ax = plt.subplots()\n",
    "# title for the plots\n",
    "title = ('Decision surface of linear SVC ')\n",
    "# Set-up grid for plotting.\n",
    "X0, X1 = X_test_fs_2d[:, 0], X_test_fs_2d[:, 1]\n",
    "xx, yy = make_meshgrid(X0, X1)\n",
    "\n",
    "\n",
    "plot_contours(ax, clf_multiclass_2d, xx, yy, cmap=plt.cm.coolwarm, alpha=0.8)\n",
    "ax.scatter(X0, X1, c=Y_test, cmap=plt.cm.coolwarm, s=20, edgecolors='k')\n",
    "\n",
    "# Encircle support vectors\n",
    "plt.scatter(model.support_vectors_[:, 0],\n",
    "            model.support_vectors_[:, 1], \n",
    "            s=50, \n",
    "            facecolors='none', \n",
    "            edgecolors='yellow', \n",
    "            alpha=.5)\n",
    "ax.set_ylabel(f'{iris_df.iloc[:, 1].name}')\n",
    "ax.set_xlabel(f'{iris_df.iloc[:, 0].name}')\n",
    "ax.set_xticks(())\n",
    "ax.set_yticks(())\n",
    "ax.set_title(title)\n",
    "ax.legend()\n",
    "plt.show()"
   ]
  },
  {
   "cell_type": "markdown",
   "id": "66a9c415",
   "metadata": {},
   "source": []
  }
 ],
 "metadata": {
  "environment": {
   "kernel": "python3",
   "name": "common-cpu.m94",
   "type": "gcloud",
   "uri": "gcr.io/deeplearning-platform-release/base-cpu:m94"
  },
  "kernelspec": {
   "display_name": "Python 3 (ipykernel)",
   "language": "python",
   "name": "python3"
  },
  "language_info": {
   "codemirror_mode": {
    "name": "ipython",
    "version": 3
   },
   "file_extension": ".py",
   "mimetype": "text/x-python",
   "name": "python",
   "nbconvert_exporter": "python",
   "pygments_lexer": "ipython3",
   "version": "3.7.12"
  }
 },
 "nbformat": 4,
 "nbformat_minor": 5
}
