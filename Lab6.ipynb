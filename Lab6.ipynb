{
 "cells": [
  {
   "cell_type": "markdown",
   "id": "fb5ecab4-f52c-4182-9463-62861a14de9f",
   "metadata": {
    "tags": []
   },
   "source": [
    "# Lab 6: Support Vector Machines (SVM's)"
   ]
  },
  {
   "cell_type": "markdown",
   "id": "60a6c168-5475-4d84-9d44-c093fe4aa490",
   "metadata": {
    "tags": []
   },
   "source": [
    "## By Yuri Henrique Galvao - Student # 3151850"
   ]
  },
  {
   "cell_type": "markdown",
   "id": "ce539cc4-3f04-470a-adf3-42121850f4ff",
   "metadata": {
    "tags": []
   },
   "source": [
    "## Importing the necessary packages and modules"
   ]
  },
  {
   "cell_type": "code",
   "execution_count": 86,
   "id": "72716720-205f-48e8-aee5-cbb0680c72f2",
   "metadata": {
    "tags": []
   },
   "outputs": [],
   "source": [
    "import pandas as pd\n",
    "import numpy as np\n",
    "import sklearn as sk\n",
    "import matplotlib.pyplot as plt\n",
    "import seaborn as sns\n",
    "import copy\n",
    "from mpl_toolkits.mplot3d import Axes3D\n",
    "from sklearn.datasets import load_iris\n",
    "from sklearn.svm import SVC\n",
    "from sklearn.model_selection import train_test_split\n",
    "from sklearn.metrics import hinge_loss, accuracy_score, confusion_matrix, ConfusionMatrixDisplay\n",
    "from sklearn.feature_selection import r_regression, SelectKBest\n",
    "from sklearn.preprocessing import StandardScaler"
   ]
  },
  {
   "cell_type": "markdown",
   "id": "b992ca44-75ef-4c4b-b80b-5a2d1037ac96",
   "metadata": {},
   "source": [
    "# Classification with SVM's"
   ]
  },
  {
   "cell_type": "markdown",
   "id": "ecfe04b6-6d59-46be-ac21-127d50fb9655",
   "metadata": {},
   "source": [
    "## Download the Iris dataset from sklearn"
   ]
  },
  {
   "cell_type": "markdown",
   "id": "edbde7f1-56a9-4d1a-90ab-84b1eb26c6a8",
   "metadata": {},
   "source": [
    "We will be using the ***Iris dataset*** from sklearn"
   ]
  },
  {
   "cell_type": "code",
   "execution_count": 3,
   "id": "3b5f6c7c-0f70-491e-89e5-dc559370001f",
   "metadata": {},
   "outputs": [
    {
     "data": {
      "text/html": [
       "<div>\n",
       "<style scoped>\n",
       "    .dataframe tbody tr th:only-of-type {\n",
       "        vertical-align: middle;\n",
       "    }\n",
       "\n",
       "    .dataframe tbody tr th {\n",
       "        vertical-align: top;\n",
       "    }\n",
       "\n",
       "    .dataframe thead th {\n",
       "        text-align: right;\n",
       "    }\n",
       "</style>\n",
       "<table border=\"1\" class=\"dataframe\">\n",
       "  <thead>\n",
       "    <tr style=\"text-align: right;\">\n",
       "      <th></th>\n",
       "      <th>sepal length (cm)</th>\n",
       "      <th>sepal width (cm)</th>\n",
       "      <th>petal length (cm)</th>\n",
       "      <th>petal width (cm)</th>\n",
       "      <th>target</th>\n",
       "    </tr>\n",
       "  </thead>\n",
       "  <tbody>\n",
       "    <tr>\n",
       "      <th>0</th>\n",
       "      <td>5.1</td>\n",
       "      <td>3.5</td>\n",
       "      <td>1.4</td>\n",
       "      <td>0.2</td>\n",
       "      <td>0</td>\n",
       "    </tr>\n",
       "    <tr>\n",
       "      <th>1</th>\n",
       "      <td>4.9</td>\n",
       "      <td>3.0</td>\n",
       "      <td>1.4</td>\n",
       "      <td>0.2</td>\n",
       "      <td>0</td>\n",
       "    </tr>\n",
       "    <tr>\n",
       "      <th>2</th>\n",
       "      <td>4.7</td>\n",
       "      <td>3.2</td>\n",
       "      <td>1.3</td>\n",
       "      <td>0.2</td>\n",
       "      <td>0</td>\n",
       "    </tr>\n",
       "    <tr>\n",
       "      <th>3</th>\n",
       "      <td>4.6</td>\n",
       "      <td>3.1</td>\n",
       "      <td>1.5</td>\n",
       "      <td>0.2</td>\n",
       "      <td>0</td>\n",
       "    </tr>\n",
       "    <tr>\n",
       "      <th>4</th>\n",
       "      <td>5.0</td>\n",
       "      <td>3.6</td>\n",
       "      <td>1.4</td>\n",
       "      <td>0.2</td>\n",
       "      <td>0</td>\n",
       "    </tr>\n",
       "    <tr>\n",
       "      <th>...</th>\n",
       "      <td>...</td>\n",
       "      <td>...</td>\n",
       "      <td>...</td>\n",
       "      <td>...</td>\n",
       "      <td>...</td>\n",
       "    </tr>\n",
       "    <tr>\n",
       "      <th>145</th>\n",
       "      <td>6.7</td>\n",
       "      <td>3.0</td>\n",
       "      <td>5.2</td>\n",
       "      <td>2.3</td>\n",
       "      <td>2</td>\n",
       "    </tr>\n",
       "    <tr>\n",
       "      <th>146</th>\n",
       "      <td>6.3</td>\n",
       "      <td>2.5</td>\n",
       "      <td>5.0</td>\n",
       "      <td>1.9</td>\n",
       "      <td>2</td>\n",
       "    </tr>\n",
       "    <tr>\n",
       "      <th>147</th>\n",
       "      <td>6.5</td>\n",
       "      <td>3.0</td>\n",
       "      <td>5.2</td>\n",
       "      <td>2.0</td>\n",
       "      <td>2</td>\n",
       "    </tr>\n",
       "    <tr>\n",
       "      <th>148</th>\n",
       "      <td>6.2</td>\n",
       "      <td>3.4</td>\n",
       "      <td>5.4</td>\n",
       "      <td>2.3</td>\n",
       "      <td>2</td>\n",
       "    </tr>\n",
       "    <tr>\n",
       "      <th>149</th>\n",
       "      <td>5.9</td>\n",
       "      <td>3.0</td>\n",
       "      <td>5.1</td>\n",
       "      <td>1.8</td>\n",
       "      <td>2</td>\n",
       "    </tr>\n",
       "  </tbody>\n",
       "</table>\n",
       "<p>150 rows × 5 columns</p>\n",
       "</div>"
      ],
      "text/plain": [
       "     sepal length (cm)  sepal width (cm)  petal length (cm)  petal width (cm)  \\\n",
       "0                  5.1               3.5                1.4               0.2   \n",
       "1                  4.9               3.0                1.4               0.2   \n",
       "2                  4.7               3.2                1.3               0.2   \n",
       "3                  4.6               3.1                1.5               0.2   \n",
       "4                  5.0               3.6                1.4               0.2   \n",
       "..                 ...               ...                ...               ...   \n",
       "145                6.7               3.0                5.2               2.3   \n",
       "146                6.3               2.5                5.0               1.9   \n",
       "147                6.5               3.0                5.2               2.0   \n",
       "148                6.2               3.4                5.4               2.3   \n",
       "149                5.9               3.0                5.1               1.8   \n",
       "\n",
       "     target  \n",
       "0         0  \n",
       "1         0  \n",
       "2         0  \n",
       "3         0  \n",
       "4         0  \n",
       "..      ...  \n",
       "145       2  \n",
       "146       2  \n",
       "147       2  \n",
       "148       2  \n",
       "149       2  \n",
       "\n",
       "[150 rows x 5 columns]"
      ]
     },
     "execution_count": 3,
     "metadata": {},
     "output_type": "execute_result"
    }
   ],
   "source": [
    "iris_df =  load_iris(as_frame=True).frame\n",
    "iris_df"
   ]
  },
  {
   "cell_type": "code",
   "execution_count": 4,
   "id": "d5ffc3ed-36fc-47cf-9737-fd93398287fc",
   "metadata": {},
   "outputs": [
    {
     "name": "stdout",
     "output_type": "stream",
     "text": [
      "<class 'pandas.core.frame.DataFrame'>\n",
      "RangeIndex: 150 entries, 0 to 149\n",
      "Data columns (total 5 columns):\n",
      " #   Column             Non-Null Count  Dtype  \n",
      "---  ------             --------------  -----  \n",
      " 0   sepal length (cm)  150 non-null    float64\n",
      " 1   sepal width (cm)   150 non-null    float64\n",
      " 2   petal length (cm)  150 non-null    float64\n",
      " 3   petal width (cm)   150 non-null    float64\n",
      " 4   target             150 non-null    int64  \n",
      "dtypes: float64(4), int64(1)\n",
      "memory usage: 6.0 KB\n"
     ]
    }
   ],
   "source": [
    "iris_df.info()"
   ]
  },
  {
   "cell_type": "code",
   "execution_count": 5,
   "id": "1d6692b6-617a-4a4a-b215-0b6f8f7eb2ad",
   "metadata": {},
   "outputs": [
    {
     "name": "stdout",
     "output_type": "stream",
     "text": [
      "<class 'numpy.ndarray'>\n",
      "<class 'numpy.ndarray'>\n"
     ]
    }
   ],
   "source": [
    "iris = load_iris()\n",
    "X_original = iris.data\n",
    "Y_original = iris.target\n",
    "print(type(X_original))\n",
    "print(type(Y_original))"
   ]
  },
  {
   "cell_type": "code",
   "execution_count": 6,
   "id": "32fdd4a7-386d-43cc-b980-2c9794625d67",
   "metadata": {},
   "outputs": [
    {
     "data": {
      "text/plain": [
       "(150, 4)"
      ]
     },
     "execution_count": 6,
     "metadata": {},
     "output_type": "execute_result"
    }
   ],
   "source": [
    "X_original.shape"
   ]
  },
  {
   "cell_type": "code",
   "execution_count": 7,
   "id": "63f30fdd-73f1-4b81-90ec-57a054e2eb13",
   "metadata": {},
   "outputs": [
    {
     "data": {
      "text/plain": [
       "(150,)"
      ]
     },
     "execution_count": 7,
     "metadata": {},
     "output_type": "execute_result"
    }
   ],
   "source": [
    "Y_original.shape"
   ]
  },
  {
   "cell_type": "markdown",
   "id": "a210a8c8-8736-41bb-a90e-d98e2d128d88",
   "metadata": {
    "tags": [],
    "toc-hr-collapsed": true
   },
   "source": [
    "# Prepare data for 2d experiments and plots"
   ]
  },
  {
   "cell_type": "markdown",
   "id": "2fb2dbd1-92a3-4c72-bb60-2b12a697dc69",
   "metadata": {},
   "source": [
    "## Split your data into a training and test set using train_test_split from sklearn and set stratify=y"
   ]
  },
  {
   "cell_type": "code",
   "execution_count": 35,
   "id": "c36fc0d0-e154-49cc-a9fa-5b0a060f24e7",
   "metadata": {},
   "outputs": [],
   "source": [
    "X_train, X_test, Y_train, Y_test = train_test_split(X_original, Y_original, test_size=0.25, random_state=0, stratify=Y_original)"
   ]
  },
  {
   "cell_type": "code",
   "execution_count": 9,
   "id": "8b27e4af-0611-4d6c-9f0a-0f2106cd7f58",
   "metadata": {},
   "outputs": [
    {
     "name": "stdout",
     "output_type": "stream",
     "text": [
      "Training examples target classes: \n",
      "[1 0 0 1 2 2 1 0 1 0 0 1 0 2 0 1 1 1 1 2 2 1 0 2 2 2 2 1 1 2 2 2 1 0 0 2 2\n",
      " 1 1 2 2 0 0 1 0 1 2 0 0 2 1 2 1 0 0 0 0 2 0 1 1 1 2 0 1 1 0 1 2 1 2 0 1 2\n",
      " 2 1 2 0 1 0 0 2 1 2 0 0 0 0 0 1 2 2 2 0 2 0 2 0 1 1 1 1 0 2 2 0 1 1 0 2 2\n",
      " 2]\n"
     ]
    }
   ],
   "source": [
    "print(f'''Training examples target classes: \n",
    "{Y_train}''')"
   ]
  },
  {
   "cell_type": "code",
   "execution_count": 10,
   "id": "6b03e3ba-b810-4e2d-afb5-603712e32da8",
   "metadata": {
    "tags": []
   },
   "outputs": [
    {
     "name": "stdout",
     "output_type": "stream",
     "text": [
      "Testing examples target classes:\n",
      "[0 0 0 0 1 1 1 0 1 2 2 2 1 2 1 0 0 2 0 1 2 1 1 0 2 0 0 1 2 1 0 1 2 2 0 1 2\n",
      " 2]\n"
     ]
    }
   ],
   "source": [
    "print(f'''Testing examples target classes:\n",
    "{Y_test}''')"
   ]
  },
  {
   "cell_type": "markdown",
   "id": "37f6e5a1-76d3-4b35-8319-790b15ee8428",
   "metadata": {
    "tags": []
   },
   "source": [
    "## You will be grabbing 2 features from the dataset (You can use any of the feature selection methods you learnt in class)\n",
    "Hint: I used chi-square feature selection because it is easy, fast and gave the same results as recursive feature elimination in previous labs"
   ]
  },
  {
   "cell_type": "markdown",
   "id": "8658f8d3-6615-459d-a117-7c378882b97c",
   "metadata": {},
   "source": [
    "### Feature selection\n",
    "#### Pearsons correlation\n",
    "##### Correlation matrix"
   ]
  },
  {
   "cell_type": "code",
   "execution_count": 11,
   "id": "56249666-2afb-40f1-bc2f-77521e97136b",
   "metadata": {},
   "outputs": [
    {
     "data": {
      "image/png": "[encoded data removed]",
      "text/plain": [
       "<Figure size 864x720 with 2 Axes>"
      ]
     },
     "metadata": {
      "needs_background": "light"
     },
     "output_type": "display_data"
    }
   ],
   "source": [
    "plt.figure(figsize=(12,10))\n",
    "cor = iris_df.corr()\n",
    "sns.heatmap(cor, annot=True, cmap=plt.cm.Reds)\n",
    "plt.show()"
   ]
  },
  {
   "cell_type": "code",
   "execution_count": 12,
   "id": "f8e70640-03a2-4ac2-b953-6d8a435c85b9",
   "metadata": {},
   "outputs": [],
   "source": [
    "selector = SelectKBest(r_regression, k=2).fit(X_train, Y_train)\n",
    "\n",
    "X_train_2d = selector.transform(X_train)\n",
    "X_test_2d = selector.transform(X_test)"
   ]
  },
  {
   "cell_type": "markdown",
   "id": "d1dc95cc-26f7-4bc1-abfd-4ec97408676d",
   "metadata": {},
   "source": [
    "### Show which features were selected"
   ]
  },
  {
   "cell_type": "code",
   "execution_count": 14,
   "id": "dfd1027e-4e2f-4907-84e6-0ac221121399",
   "metadata": {},
   "outputs": [],
   "source": [
    "cols = selector.get_support(indices=True)\n",
    "columns_names = [iris_df.columns[n] for n in cols]"
   ]
  },
  {
   "cell_type": "code",
   "execution_count": 15,
   "id": "e55e4be0-cfd8-44cc-840b-aa58555ccbed",
   "metadata": {},
   "outputs": [
    {
     "name": "stdout",
     "output_type": "stream",
     "text": [
      "These are the selected columns:\n",
      "\n",
      "petal length (cm)\n",
      "petal width (cm)\n"
     ]
    }
   ],
   "source": [
    "## Let's show the names of the selected columns\n",
    "print('These are the selected columns:\\n')\n",
    "for name in columns_names:\n",
    "    print(name)"
   ]
  },
  {
   "cell_type": "markdown",
   "id": "99f85925-cf56-4ac7-8815-16e9e0f0210a",
   "metadata": {},
   "source": [
    "## Use StandardScaler to feature scale your data (If you are using chi-squared, you will want to do this after you have selected your features)"
   ]
  },
  {
   "cell_type": "code",
   "execution_count": 17,
   "id": "4226cbdf-b649-4498-bb94-810af10a0300",
   "metadata": {},
   "outputs": [],
   "source": [
    "scaler = StandardScaler()\n",
    "scaler.fit(X_train_2d)\n",
    "X_train_fs_2d = scaler.transform(X_train_2d)\n",
    "X_test_fs_2d = scaler.transform(X_test_2d)"
   ]
  },
  {
   "cell_type": "code",
   "execution_count": 18,
   "id": "76ac2988-fa21-4671-908a-c850c463c254",
   "metadata": {
    "collapsed": true,
    "jupyter": {
     "outputs_hidden": true
    },
    "tags": []
   },
   "outputs": [
    {
     "data": {
      "text/plain": [
       "array([[-0.15148942, -0.27585067],\n",
       "       [-1.32740725, -1.32760471],\n",
       "       [-1.32740725, -1.32760471],\n",
       "       [-0.26348159, -0.27585067],\n",
       "       [ 0.40847146,  0.64443411],\n",
       "       [ 0.6884519 ,  0.90737262],\n",
       "       [ 0.35247537,  0.1185571 ],\n",
       "       [-1.38340334, -1.19613545],\n",
       "       [ 0.52046363, -0.01291216],\n",
       "       [-1.21541508, -0.80172769],\n",
       "       [-1.43939943, -1.32760471],\n",
       "       [ 0.07249493, -0.14438141],\n",
       "       [-1.32740725, -1.32760471],\n",
       "       [ 0.74444798,  1.5647189 ],\n",
       "       [-1.21541508, -1.0646662 ],\n",
       "       [-0.09549333,  0.1185571 ],\n",
       "       [ 0.74444798,  0.51296486],\n",
       "       [ 0.35247537,  0.25002635],\n",
       "       [ 0.29647928,  0.1185571 ],\n",
       "       [ 1.02442842,  1.30178039],\n",
       "       [ 1.64038538,  1.30178039],\n",
       "       [-0.15148942, -0.27585067],\n",
       "       [-1.27141116, -1.45907396],\n",
       "       [ 0.63245581,  0.77590337],\n",
       "       [ 1.64038538,  1.03884188],\n",
       "       [ 0.57645972,  0.77590337],\n",
       "       [ 1.30440886,  1.43324964],\n",
       "       [ 0.12849102, -0.01291216],\n",
       "       [ 0.29647928,  0.1185571 ],\n",
       "       [ 1.08042451,  1.43324964],\n",
       "       [ 0.74444798,  0.90737262],\n",
       "       [ 1.41640103,  0.77590337],\n",
       "       [ 0.57645972,  0.25002635],\n",
       "       [-1.38340334, -1.32760471],\n",
       "       [-1.32740725, -1.32760471],\n",
       "       [ 0.6884519 ,  0.38149561],\n",
       "       [ 1.02442842,  1.17031113],\n",
       "       [-0.26348159, -0.27585067],\n",
       "       [ 0.46446755,  0.1185571 ],\n",
       "       [ 1.02442842,  1.5647189 ],\n",
       "       [ 1.75237756,  1.43324964],\n",
       "       [-1.04742681, -1.0646662 ],\n",
       "       [-1.21541508, -1.32760471],\n",
       "       [ 0.40847146,  0.38149561],\n",
       "       [-1.15941899, -1.32760471],\n",
       "       [ 0.63245581,  0.38149561],\n",
       "       [ 1.47239712,  1.03884188],\n",
       "       [-1.27141116, -1.32760471],\n",
       "       [-1.15941899, -1.19613545],\n",
       "       [ 0.96843233,  1.17031113],\n",
       "       [ 0.12849102,  0.1185571 ],\n",
       "       [ 1.58438929,  1.17031113],\n",
       "       [ 0.07249493,  0.25002635],\n",
       "       [-1.27141116, -1.0646662 ],\n",
       "       [-1.21541508, -1.32760471],\n",
       "       [-1.43939943, -1.32760471],\n",
       "       [-1.38340334, -1.19613545],\n",
       "       [ 0.74444798,  1.03884188],\n",
       "       [-1.27141116, -1.0646662 ],\n",
       "       [ 0.40847146,  0.38149561],\n",
       "       [ 0.57645972,  0.77590337],\n",
       "       [ 0.2404832 ,  0.1185571 ],\n",
       "       [ 0.96843233,  0.77590337],\n",
       "       [-1.27141116, -1.32760471],\n",
       "       [ 0.2404832 ,  0.38149561],\n",
       "       [ 0.2404832 , -0.01291216],\n",
       "       [-1.32740725, -1.45907396],\n",
       "       [ 0.01649885, -0.14438141],\n",
       "       [ 1.1364206 ,  0.77590337],\n",
       "       [ 0.63245581,  0.38149561],\n",
       "       [ 1.19241668,  1.17031113],\n",
       "       [-1.32740725, -1.32760471],\n",
       "       [ 0.52046363,  0.25002635],\n",
       "       [ 0.85644016,  1.43324964],\n",
       "       [ 0.57645972,  0.77590337],\n",
       "       [ 0.6884519 ,  0.64443411],\n",
       "       [ 1.08042451,  1.69618815],\n",
       "       [-1.49539551, -1.45907396],\n",
       "       [-0.43146985, -0.14438141],\n",
       "       [-1.21541508, -1.32760471],\n",
       "       [-1.32740725, -1.19613545],\n",
       "       [ 0.63245581,  0.77590337],\n",
       "       [ 0.52046363,  0.51296486],\n",
       "       [ 1.19241668,  1.43324964],\n",
       "       [-1.27141116, -1.32760471],\n",
       "       [-1.32740725, -1.32760471],\n",
       "       [-1.32740725, -1.19613545],\n",
       "       [-1.15941899, -1.0646662 ],\n",
       "       [-1.27141116, -1.32760471],\n",
       "       [ 0.2404832 ,  0.1185571 ],\n",
       "       [ 1.08042451,  1.17031113],\n",
       "       [ 0.91243625,  1.43324964],\n",
       "       [ 1.24841277,  0.77590337],\n",
       "       [-1.5513916 , -1.32760471],\n",
       "       [ 0.74444798,  0.38149561],\n",
       "       [-1.38340334, -1.32760471],\n",
       "       [ 1.1364206 ,  1.30178039],\n",
       "       [-1.38340334, -1.32760471],\n",
       "       [ 0.46446755,  0.25002635],\n",
       "       [ 0.12849102,  0.1185571 ],\n",
       "       [ 0.07249493, -0.01291216],\n",
       "       [ 0.12849102, -0.27585067],\n",
       "       [-1.38340334, -1.0646662 ],\n",
       "       [ 0.80044407,  1.43324964],\n",
       "       [ 0.96843233,  0.77590337],\n",
       "       [-1.32740725, -1.32760471],\n",
       "       [ 0.40847146,  0.38149561],\n",
       "       [ 0.40847146,  0.38149561],\n",
       "       [-1.21541508, -1.32760471],\n",
       "       [ 1.30440886,  0.90737262],\n",
       "       [ 0.74444798,  1.43324964],\n",
       "       [ 0.85644016,  0.90737262]])"
      ]
     },
     "execution_count": 18,
     "metadata": {},
     "output_type": "execute_result"
    }
   ],
   "source": [
    "X_train_fs_2d"
   ]
  },
  {
   "cell_type": "markdown",
   "id": "b9badb07-6f95-474a-a119-eb945ba4335e",
   "metadata": {},
   "source": [
    "# Prepare data for 3d experiments and plots"
   ]
  },
  {
   "cell_type": "markdown",
   "id": "e511f5ee-25f1-4f96-9a3c-0377313c986c",
   "metadata": {},
   "source": [
    "## Grab the first 3 features in your datsset and change to binary classification problem \n",
    "- You will have to make the problem a binary classifiation problem\n",
    "  - This will be done by grabbing Only labels with 0 or 1. We will be completely ignoring class 2"
   ]
  },
  {
   "cell_type": "code",
   "execution_count": 25,
   "id": "33363fcc-d9cc-42ce-9285-8cbc1ea05630",
   "metadata": {},
   "outputs": [
    {
     "data": {
      "text/plain": [
       "array([0, 1])"
      ]
     },
     "execution_count": 25,
     "metadata": {},
     "output_type": "execute_result"
    }
   ],
   "source": [
    "iris_df_bin = iris_df[iris_df.target != 2]\n",
    "iris_df_bin.target.unique()"
   ]
  },
  {
   "cell_type": "code",
   "execution_count": 28,
   "id": "121c5d24-9671-4e77-adb9-53c7dfe87ab4",
   "metadata": {},
   "outputs": [
    {
     "data": {
      "text/plain": [
       "(100, 3)"
      ]
     },
     "execution_count": 28,
     "metadata": {},
     "output_type": "execute_result"
    }
   ],
   "source": [
    "X_bin_3d = iris_df_bin.iloc[:,:3]\n",
    "X_bin_3d.shape"
   ]
  },
  {
   "cell_type": "code",
   "execution_count": 29,
   "id": "4ecdcdda-89ab-40fa-964c-d55647b49e76",
   "metadata": {},
   "outputs": [
    {
     "data": {
      "text/plain": [
       "(100,)"
      ]
     },
     "execution_count": 29,
     "metadata": {},
     "output_type": "execute_result"
    }
   ],
   "source": [
    "Y_bin = iris_df_bin.target\n",
    "Y_bin.shape"
   ]
  },
  {
   "cell_type": "markdown",
   "id": "086bb73c-4c8a-448c-90e3-91fa71a59835",
   "metadata": {},
   "source": [
    "## Split the data into a training and testing dataset using train_test_split from sklearn and set stratify=y (In this case remember y is your binary version of y which has only 2 labels 0 and 1)"
   ]
  },
  {
   "cell_type": "code",
   "execution_count": 31,
   "id": "18d671df-7bf7-4e06-a8c8-0f754990bdb2",
   "metadata": {},
   "outputs": [],
   "source": [
    "X_train_bin_3d, X_test_bin_3d, Y_train_bin, Y_test_bin = train_test_split(X_bin_3d, Y_bin, test_size=0.25, random_state=0, stratify=Y_bin)"
   ]
  },
  {
   "cell_type": "code",
   "execution_count": 33,
   "id": "2c642115-0509-4474-ade4-691c6547e40e",
   "metadata": {},
   "outputs": [
    {
     "name": "stdout",
     "output_type": "stream",
     "text": [
      "Training examples target classes: \n",
      "[1 0 1 0 1 1 0 1 0 1 0 0 0 1 1 0 1 1 0 0 1 0 0 1 0 0 1 1 1 1 1 1 1 0 1 0 0\n",
      " 1 0 0 1 0 1 0 1 1 0 1 0 0 0 0 1 1 0 1 0 0 1 1 0 1 0 1 1 0 1 0 1 0 1 0 0 1\n",
      " 0]\n"
     ]
    }
   ],
   "source": [
    "print(f'''Training examples target classes: \n",
    "{Y_train_bin.values}''')"
   ]
  },
  {
   "cell_type": "code",
   "execution_count": 34,
   "id": "1003c860-40c6-4671-bfe4-4d10e488317e",
   "metadata": {
    "tags": []
   },
   "outputs": [
    {
     "name": "stdout",
     "output_type": "stream",
     "text": [
      "Testing examples target classes:\n",
      "[1 1 0 0 0 1 0 1 0 1 1 0 0 1 1 0 1 0 0 0 0 0 1 1 1]\n"
     ]
    }
   ],
   "source": [
    "print(f'''Testing examples target classes:\n",
    "{Y_test_bin.values}''')"
   ]
  },
  {
   "cell_type": "markdown",
   "id": "e0500136-13f2-4904-8cdc-61d436d4a36e",
   "metadata": {},
   "source": [
    "## Train, predict and plot svm on 2d prepared data with the following configuration:\n",
    "\n",
    "- kernel=\"linear\", C=1.0"
   ]
  },
  {
   "cell_type": "code",
   "execution_count": 37,
   "id": "190ce765-5c80-4865-af6e-129fd217dbe9",
   "metadata": {},
   "outputs": [],
   "source": [
    "# Training the model:\n",
    "model = SVC(kernel='linear', C=1.0)\n",
    "clf_multiclass_2d = model.fit(X_train_fs_2d, Y_train)"
   ]
  },
  {
   "cell_type": "markdown",
   "id": "03ba29eb-6cc1-47ff-8969-84a271454c26",
   "metadata": {
    "tags": []
   },
   "source": [
    "### Calculate the accuracy and hinge loss on the training set"
   ]
  },
  {
   "cell_type": "code",
   "execution_count": 88,
   "id": "2aa17738-77cc-40ea-88fa-8790b8672f4b",
   "metadata": {},
   "outputs": [],
   "source": [
    "# Predicting:\n",
    "h_w_x = clf_multiclass_2d.predict(X_train_fs_2d)"
   ]
  },
  {
   "cell_type": "code",
   "execution_count": 89,
   "id": "01455c76-70d0-4844-89bf-5791e06159a6",
   "metadata": {
    "tags": []
   },
   "outputs": [
    {
     "name": "stdout",
     "output_type": "stream",
     "text": [
      "Accuracy: 0.9553571428571429\n"
     ]
    }
   ],
   "source": [
    "# Calculating accuracy:\n",
    "accuracy = accuracy_score(Y_train, h_w_x, normalize=True)\n",
    "\n",
    "print(f\"Accuracy: {accuracy}\")"
   ]
  },
  {
   "cell_type": "code",
   "execution_count": 90,
   "id": "428f7b48-318b-41d3-8df7-bb3a1bf366ec",
   "metadata": {},
   "outputs": [
    {
     "name": "stdout",
     "output_type": "stream",
     "text": [
      "Training hinge loss: 0.10699609961904019\n"
     ]
    }
   ],
   "source": [
    "# Calculating hinge loss:\n",
    "hinge_loss_ = hinge_loss(Y_train, clf_multiclass_2d.decision_function(X_train_fs_2d))\n",
    "\n",
    "print(f\"Training hinge loss: {hinge_loss_}\")"
   ]
  },
  {
   "cell_type": "markdown",
   "id": "d943144f-c16c-47d5-bcab-4bddf6d69e13",
   "metadata": {
    "tags": []
   },
   "source": [
    "### Calculate the accuracy and hinge loss on the testing set"
   ]
  },
  {
   "cell_type": "code",
   "execution_count": 91,
   "id": "b62507ed-eefd-495e-a322-8d9470723507",
   "metadata": {},
   "outputs": [],
   "source": [
    "# Predicting:\n",
    "h_w_x = clf_multiclass_2d.predict(X_test_fs_2d)"
   ]
  },
  {
   "cell_type": "code",
   "execution_count": 92,
   "id": "ca541bfb-55e5-460a-9679-a6e19e38ac49",
   "metadata": {
    "tags": []
   },
   "outputs": [
    {
     "name": "stdout",
     "output_type": "stream",
     "text": [
      "Accuracy: 0.9736842105263158\n"
     ]
    }
   ],
   "source": [
    "# Calculating accuracy:\n",
    "accuracy = accuracy_score(Y_test, h_w_x, normalize=True)\n",
    "\n",
    "print(f\"Accuracy: {accuracy}\")"
   ]
  },
  {
   "cell_type": "code",
   "execution_count": 93,
   "id": "cad9ce65-0536-4302-8909-943a2da0ab75",
   "metadata": {},
   "outputs": [
    {
     "name": "stdout",
     "output_type": "stream",
     "text": [
      "Training hinge loss: 0.071755462790017\n"
     ]
    }
   ],
   "source": [
    "# Calculating hinge loss:\n",
    "hinge_loss_ = hinge_loss(Y_test, clf_multiclass_2d.decision_function(X_test_fs_2d))\n",
    "\n",
    "print(f\"Training hinge loss: {hinge_loss_}\")"
   ]
  },
  {
   "cell_type": "markdown",
   "id": "8764aa9d-6ac9-488b-ac33-5614a5d9ddb1",
   "metadata": {
    "tags": []
   },
   "source": [
    "### Plot the decision boundary with each point colored with its groundtruth class in 2D\n",
    "- encircle your support vectors"
   ]
  },
  {
   "cell_type": "code",
   "execution_count": 72,
   "id": "c3b7f633-cfdc-4121-a660-a88ba4ef6587",
   "metadata": {},
   "outputs": [
    {
     "name": "stderr",
     "output_type": "stream",
     "text": [
      "No artists with labels found to put in legend.  Note that artists whose label start with an underscore are ignored when legend() is called with no argument.\n"
     ]
    },
    {
     "data": {
      "image/png": "[encoded data removed]",
      "text/plain": [
       "<Figure size 432x288 with 1 Axes>"
      ]
     },
     "metadata": {},
     "output_type": "display_data"
    }
   ],
   "source": [
    "# Predicting and plotting on the TRAIN dataset:\n",
    "def make_meshgrid(x, y, h=.02):\n",
    "    x_min, x_max = x.min() - 1, x.max() + 1\n",
    "    y_min, y_max = y.min() - 1, y.max() + 1\n",
    "    xx, yy = np.meshgrid(np.arange(x_min, x_max, h), np.arange(y_min, y_max, h))\n",
    "    return xx, yy\n",
    "\n",
    "def plot_contours(ax, clf_multiclass_2d, xx, yy, **params):\n",
    "    Z = clf_multiclass_2d.predict(np.c_[xx.ravel(), yy.ravel()])\n",
    "    Z = Z.reshape(xx.shape)\n",
    "    out = ax.contourf(xx, yy, Z, **params)\n",
    "    return out\n",
    "\n",
    "fig, ax = plt.subplots()\n",
    "# title for the plots\n",
    "title = ('Decision surface of linear SVC ')\n",
    "# Set-up grid for plotting.\n",
    "X0, X1 = X_train_fs_2d[:, 0], X_train_fs_2d[:, 1]\n",
    "xx, yy = make_meshgrid(X0, X1)\n",
    "\n",
    "\n",
    "plot_contours(ax, clf_multiclass_2d, xx, yy, cmap=plt.cm.coolwarm, alpha=0.8)\n",
    "ax.scatter(X0, X1, c=Y_train, cmap=plt.cm.coolwarm, s=20, edgecolors='k')\n",
    "\n",
    "# Encircle support vectors\n",
    "plt.scatter(model.support_vectors_[:, 0],\n",
    "            model.support_vectors_[:, 1], \n",
    "            s=50, \n",
    "            facecolors='none', \n",
    "            edgecolors='yellow', \n",
    "            alpha=.5)\n",
    "ax.set_ylabel(f'{iris_df.iloc[:, 1].name}')\n",
    "ax.set_xlabel(f'{iris_df.iloc[:, 0].name}')\n",
    "ax.set_xticks(())\n",
    "ax.set_yticks(())\n",
    "ax.set_title(title)\n",
    "ax.legend()\n",
    "plt.show()"
   ]
  },
  {
   "cell_type": "code",
   "execution_count": 71,
   "id": "abe1514d-b35a-4f33-adfd-ecbb2885fffd",
   "metadata": {},
   "outputs": [
    {
     "name": "stderr",
     "output_type": "stream",
     "text": [
      "No artists with labels found to put in legend.  Note that artists whose label start with an underscore are ignored when legend() is called with no argument.\n"
     ]
    },
    {
     "data": {
      "image/png": "[encoded data removed]",
      "text/plain": [
       "<Figure size 432x288 with 1 Axes>"
      ]
     },
     "metadata": {},
     "output_type": "display_data"
    }
   ],
   "source": [
    "# Predicting and plotting on the TEST dataset:\n",
    "fig, ax = plt.subplots()\n",
    "# title for the plots\n",
    "title = ('Decision surface of linear SVC ')\n",
    "# Set-up grid for plotting.\n",
    "X0, X1 = X_test_fs_2d[:, 0], X_test_fs_2d[:, 1]\n",
    "xx, yy = make_meshgrid(X0, X1)\n",
    "\n",
    "\n",
    "plot_contours(ax, clf_multiclass_2d, xx, yy, cmap=plt.cm.coolwarm, alpha=0.8)\n",
    "ax.scatter(X0, X1, c=Y_test, cmap=plt.cm.coolwarm, s=20, edgecolors='k')\n",
    "\n",
    "# Encircle support vectors\n",
    "plt.scatter(model.support_vectors_[:, 0],\n",
    "            model.support_vectors_[:, 1], \n",
    "            s=50, \n",
    "            facecolors='none', \n",
    "            edgecolors='yellow', \n",
    "            alpha=.5)\n",
    "ax.set_ylabel(f'{iris_df.iloc[:, 1].name}')\n",
    "ax.set_xlabel(f'{iris_df.iloc[:, 0].name}')\n",
    "ax.set_xticks(())\n",
    "ax.set_yticks(())\n",
    "ax.set_title(title)\n",
    "ax.legend()\n",
    "plt.show()"
   ]
  },
  {
   "cell_type": "markdown",
   "id": "9275a5b7-4e2d-4f37-b6a9-a58cb0e9f4d9",
   "metadata": {},
   "source": [
    "## Train, predict and plot svm on 3d prepared data with the following configuration:\n",
    "\n",
    "- kernel=\"linear\", C=1.0"
   ]
  },
  {
   "cell_type": "code",
   "execution_count": 94,
   "id": "13929cf7-9d17-46d7-a46d-c00e2c52047d",
   "metadata": {},
   "outputs": [],
   "source": [
    "# Training the model:\n",
    "model = SVC(kernel='linear', C=1.0)\n",
    "clf_multiclass_2d = model.fit(X_train_bin_3d, Y_train_bin)"
   ]
  },
  {
   "cell_type": "markdown",
   "id": "3873a63d-a571-41ad-b7ce-e4bde3470221",
   "metadata": {},
   "source": [
    "### Plot 3D graph using binary training data with hyperplane separating the 2 points\n",
    "    - Hint: You should have the plane perfectly seperating 2 classes"
   ]
  },
  {
   "cell_type": "markdown",
   "id": "824462d2-79db-4bf2-ad6e-266a377d51ef",
   "metadata": {},
   "source": [
    "### Get the accuracy and hinge loss of the testing set"
   ]
  },
  {
   "cell_type": "markdown",
   "id": "b6f250b8-109c-4526-9878-26e28cc86743",
   "metadata": {},
   "source": [
    "## Train, predict and plot svm on 2d prepared data with the following configuration:\n",
    "\n",
    "- kernel=\"linear\", C=100000"
   ]
  },
  {
   "cell_type": "markdown",
   "id": "9edc6448-afc9-4324-920e-f8408754f7c6",
   "metadata": {},
   "source": [
    "### Calculate the accuracy and hinge loss on the training set"
   ]
  },
  {
   "cell_type": "markdown",
   "id": "fee4e187-93e3-46a4-a454-5c0f6fc2f2e1",
   "metadata": {},
   "source": [
    "### Calculate the accuracy and hinge loss on the testing set"
   ]
  },
  {
   "cell_type": "markdown",
   "id": "5e0908cd-462e-44c5-a5e0-32d234d93bba",
   "metadata": {},
   "source": [
    "### Plot the decision boundary with each point colored with its groundtruth class in 2D\n",
    "- encircle your support vectors"
   ]
  },
  {
   "cell_type": "markdown",
   "id": "4c99a9f0-5d9e-4024-aea7-ea464cef9fad",
   "metadata": {},
   "source": [
    "## Train, predict and plot svm on 3d prepared data with the following configuration:\n",
    "\n",
    "- kernel=\"linear\", C=100000"
   ]
  },
  {
   "cell_type": "markdown",
   "id": "88dd73b7-f2ba-4d4b-a5c1-0541d7d0474f",
   "metadata": {},
   "source": [
    "### Plot 3D graph using binary training data with hyperplane separating the 2 points\n",
    "    - Hint: You should have the plane perfectly seperating 2 classes"
   ]
  },
  {
   "cell_type": "markdown",
   "id": "8ca7a854-8e87-4c82-9f58-502f1cc74146",
   "metadata": {},
   "source": [
    "### Get the accuracy and hinge loss of the testing set"
   ]
  },
  {
   "cell_type": "markdown",
   "id": "18f369a9-fa7d-4c5c-8eb0-1571f8ce305c",
   "metadata": {},
   "source": [
    "## Train, predict and plot svm on 2d prepared data with the following configuration:\n",
    "\n",
    "- kernel=\"linear\", C=0.0001"
   ]
  },
  {
   "cell_type": "markdown",
   "id": "dfdc2cee-a590-441c-b1f8-1907da23c157",
   "metadata": {},
   "source": [
    "### Calculate the accuracy and hinge loss on the training set"
   ]
  },
  {
   "cell_type": "markdown",
   "id": "0a1d8b45-72a3-480a-9efe-39446fe302cf",
   "metadata": {},
   "source": [
    "### Calculate the accuracy and hinge loss on the testing set"
   ]
  },
  {
   "cell_type": "markdown",
   "id": "1dc5a493-0077-429b-b5e8-21019e2a4caf",
   "metadata": {},
   "source": [
    "### Plot the decision boundary with each point colored with its groundtruth class in 2D\n",
    "- encircle your support vectors"
   ]
  },
  {
   "cell_type": "markdown",
   "id": "e6f443bd-4d05-43c7-8464-7ebb89c1d906",
   "metadata": {},
   "source": [
    "## Train, predict and plot svm on 3d prepared data with the following configuration:\n",
    "\n",
    "- kernel=\"linear\", C=0.0001"
   ]
  },
  {
   "cell_type": "markdown",
   "id": "c919b0c9-a539-40a8-8184-6e751b4d2ac3",
   "metadata": {},
   "source": [
    "### Plot 3D graph using binary training data with hyperplane separating the 2 points\n",
    "    - Hint: You will hot have a plane perfectly seperating the data because it is underfit"
   ]
  },
  {
   "cell_type": "markdown",
   "id": "fac232cf-77d9-473b-a883-82ea88e32fff",
   "metadata": {},
   "source": [
    "### Get the accuracy and hinge loss of the testing set"
   ]
  },
  {
   "cell_type": "markdown",
   "id": "95f6fe2d-0740-417f-85b6-7f5856400041",
   "metadata": {},
   "source": [
    "## Train, predict and plot svm on 2d prepared data with the following configuration:\n",
    "\n",
    "- kernel=\"poly\", C=1.0, degree=2, coef0=0.0, gamma=\"scale\""
   ]
  },
  {
   "cell_type": "markdown",
   "id": "c0b4a033-1ded-4bff-aa09-6e3a42d3ff25",
   "metadata": {},
   "source": [
    "### Calculate the accuracy and hinge loss on the training set"
   ]
  },
  {
   "cell_type": "markdown",
   "id": "4c22aa5a-6bbd-412e-83e9-10d5be769f08",
   "metadata": {},
   "source": [
    "### Calculate the accuracy and hinge loss on the testing set"
   ]
  },
  {
   "cell_type": "markdown",
   "id": "580ce154-ae0f-4ccf-a16a-d1a900185908",
   "metadata": {},
   "source": [
    "### Plot the decision boundary with each point colored with its groundtruth class in 2D\n",
    "- encircle your support vectors"
   ]
  },
  {
   "cell_type": "markdown",
   "id": "6b65ce20-530f-4d3c-8e98-a58d5197ead6",
   "metadata": {},
   "source": [
    "## Train, predict and plot svm on 2d prepared data with the following configuration:\n",
    "\n",
    "- kernel=\"poly\", C=1.0, degree=3, coef0=0.0, gamma=\"scale\""
   ]
  },
  {
   "cell_type": "markdown",
   "id": "4db26c5f-1374-4580-935b-eca5197ef285",
   "metadata": {},
   "source": [
    "### Calculate the accuracy and hinge loss on the training set"
   ]
  },
  {
   "cell_type": "markdown",
   "id": "551c198b-61d7-4e8f-b205-57f84dfa33b8",
   "metadata": {},
   "source": [
    "### Calculate the accuracy and hinge loss on the testing set"
   ]
  },
  {
   "cell_type": "markdown",
   "id": "a2cd4fd6-f071-49e1-b43c-16e0e18b3aa8",
   "metadata": {},
   "source": [
    "### Plot the decision boundary with each point colored with its groundtruth class in 2D\n",
    "- encircle your support vectors"
   ]
  },
  {
   "cell_type": "markdown",
   "id": "e525d3e6-4b92-492f-9d75-51d5e8f06619",
   "metadata": {},
   "source": [
    "## Train, predict and plot svm on 2d prepared data with the following configuration:\n",
    "\n",
    "- kernel=\"rbf\", C=1.0, gamma=\"scale\""
   ]
  },
  {
   "cell_type": "markdown",
   "id": "3b434f4b-96fd-49bb-90cc-aef3d46a2e64",
   "metadata": {},
   "source": [
    "### Calculate the accuracy and hinge loss on the training set"
   ]
  },
  {
   "cell_type": "markdown",
   "id": "8623b095-37df-4143-914e-68c93b64ac5d",
   "metadata": {},
   "source": [
    "### Calculate the accuracy and hinge loss on the testing set"
   ]
  },
  {
   "cell_type": "markdown",
   "id": "f9362cf6-f01b-45cb-a5b0-5d33161400e3",
   "metadata": {},
   "source": [
    "### Plot the decision boundary with each point colored with its groundtruth class in 2D\n",
    "- encircle your support vectors"
   ]
  }
 ],
 "metadata": {
  "environment": {
   "kernel": "python3",
   "name": "common-cpu.m94",
   "type": "gcloud",
   "uri": "gcr.io/deeplearning-platform-release/base-cpu:m94"
  },
  "kernelspec": {
   "display_name": "Python 3 (ipykernel)",
   "language": "python",
   "name": "python3"
  },
  "language_info": {
   "codemirror_mode": {
    "name": "ipython",
    "version": 3
   },
   "file_extension": ".py",
   "mimetype": "text/x-python",
   "name": "python",
   "nbconvert_exporter": "python",
   "pygments_lexer": "ipython3",
   "version": "3.7.12"
  }
 },
 "nbformat": 4,
 "nbformat_minor": 5
}
