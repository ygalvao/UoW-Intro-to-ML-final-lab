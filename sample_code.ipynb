{
 "cells": [
  {
   "cell_type": "markdown",
   "id": "d4bb906f-4e14-42f1-92f5-f1e230afbb7c",
   "metadata": {},
   "source": [
    "# Classification with SVM's\n",
    "You will be using the Iris dataset from sklearn"
   ]
  },
  {
   "cell_type": "code",
   "execution_count": 1,
   "id": "bf5c8988-91a0-4ead-bf50-8db234455a85",
   "metadata": {},
   "outputs": [
    {
     "data": {
      "text/html": [
       "<div>\n",
       "<style scoped>\n",
       "    .dataframe tbody tr th:only-of-type {\n",
       "        vertical-align: middle;\n",
       "    }\n",
       "\n",
       "    .dataframe tbody tr th {\n",
       "        vertical-align: top;\n",
       "    }\n",
       "\n",
       "    .dataframe thead th {\n",
       "        text-align: right;\n",
       "    }\n",
       "</style>\n",
       "<table border=\"1\" class=\"dataframe\">\n",
       "  <thead>\n",
       "    <tr style=\"text-align: right;\">\n",
       "      <th></th>\n",
       "      <th>sepal length (cm)</th>\n",
       "      <th>sepal width (cm)</th>\n",
       "      <th>petal length (cm)</th>\n",
       "      <th>petal width (cm)</th>\n",
       "      <th>target</th>\n",
       "    </tr>\n",
       "  </thead>\n",
       "  <tbody>\n",
       "    <tr>\n",
       "      <th>0</th>\n",
       "      <td>5.1</td>\n",
       "      <td>3.5</td>\n",
       "      <td>1.4</td>\n",
       "      <td>0.2</td>\n",
       "      <td>0</td>\n",
       "    </tr>\n",
       "    <tr>\n",
       "      <th>1</th>\n",
       "      <td>4.9</td>\n",
       "      <td>3.0</td>\n",
       "      <td>1.4</td>\n",
       "      <td>0.2</td>\n",
       "      <td>0</td>\n",
       "    </tr>\n",
       "    <tr>\n",
       "      <th>2</th>\n",
       "      <td>4.7</td>\n",
       "      <td>3.2</td>\n",
       "      <td>1.3</td>\n",
       "      <td>0.2</td>\n",
       "      <td>0</td>\n",
       "    </tr>\n",
       "    <tr>\n",
       "      <th>3</th>\n",
       "      <td>4.6</td>\n",
       "      <td>3.1</td>\n",
       "      <td>1.5</td>\n",
       "      <td>0.2</td>\n",
       "      <td>0</td>\n",
       "    </tr>\n",
       "    <tr>\n",
       "      <th>4</th>\n",
       "      <td>5.0</td>\n",
       "      <td>3.6</td>\n",
       "      <td>1.4</td>\n",
       "      <td>0.2</td>\n",
       "      <td>0</td>\n",
       "    </tr>\n",
       "    <tr>\n",
       "      <th>...</th>\n",
       "      <td>...</td>\n",
       "      <td>...</td>\n",
       "      <td>...</td>\n",
       "      <td>...</td>\n",
       "      <td>...</td>\n",
       "    </tr>\n",
       "    <tr>\n",
       "      <th>145</th>\n",
       "      <td>6.7</td>\n",
       "      <td>3.0</td>\n",
       "      <td>5.2</td>\n",
       "      <td>2.3</td>\n",
       "      <td>2</td>\n",
       "    </tr>\n",
       "    <tr>\n",
       "      <th>146</th>\n",
       "      <td>6.3</td>\n",
       "      <td>2.5</td>\n",
       "      <td>5.0</td>\n",
       "      <td>1.9</td>\n",
       "      <td>2</td>\n",
       "    </tr>\n",
       "    <tr>\n",
       "      <th>147</th>\n",
       "      <td>6.5</td>\n",
       "      <td>3.0</td>\n",
       "      <td>5.2</td>\n",
       "      <td>2.0</td>\n",
       "      <td>2</td>\n",
       "    </tr>\n",
       "    <tr>\n",
       "      <th>148</th>\n",
       "      <td>6.2</td>\n",
       "      <td>3.4</td>\n",
       "      <td>5.4</td>\n",
       "      <td>2.3</td>\n",
       "      <td>2</td>\n",
       "    </tr>\n",
       "    <tr>\n",
       "      <th>149</th>\n",
       "      <td>5.9</td>\n",
       "      <td>3.0</td>\n",
       "      <td>5.1</td>\n",
       "      <td>1.8</td>\n",
       "      <td>2</td>\n",
       "    </tr>\n",
       "  </tbody>\n",
       "</table>\n",
       "<p>150 rows × 5 columns</p>\n",
       "</div>"
      ],
      "text/plain": [
       "     sepal length (cm)  sepal width (cm)  petal length (cm)  petal width (cm)  \\\n",
       "0                  5.1               3.5                1.4               0.2   \n",
       "1                  4.9               3.0                1.4               0.2   \n",
       "2                  4.7               3.2                1.3               0.2   \n",
       "3                  4.6               3.1                1.5               0.2   \n",
       "4                  5.0               3.6                1.4               0.2   \n",
       "..                 ...               ...                ...               ...   \n",
       "145                6.7               3.0                5.2               2.3   \n",
       "146                6.3               2.5                5.0               1.9   \n",
       "147                6.5               3.0                5.2               2.0   \n",
       "148                6.2               3.4                5.4               2.3   \n",
       "149                5.9               3.0                5.1               1.8   \n",
       "\n",
       "     target  \n",
       "0         0  \n",
       "1         0  \n",
       "2         0  \n",
       "3         0  \n",
       "4         0  \n",
       "..      ...  \n",
       "145       2  \n",
       "146       2  \n",
       "147       2  \n",
       "148       2  \n",
       "149       2  \n",
       "\n",
       "[150 rows x 5 columns]"
      ]
     },
     "execution_count": 1,
     "metadata": {},
     "output_type": "execute_result"
    }
   ],
   "source": [
    "from sklearn.datasets import load_iris\n",
    "\n",
    "iris_df =  load_iris(as_frame=True).frame\n",
    "iris = load_iris()\n",
    "X_original = iris.data\n",
    "y_original = iris.target\n",
    "iris_df"
   ]
  },
  {
   "cell_type": "markdown",
   "id": "edf34741-4fc6-4073-9f7f-eb6d49110629",
   "metadata": {},
   "source": [
    "Your objectives are available in the README.md file accompanying this notebook\n",
    "\n",
    "I will be providing a jupyter file with headers for where you can insert your answers for each question\n",
    "\n",
    "Below we will be going over the following to help you with the Lab:\n",
    "\n",
    "Classification with SVM's:\n",
    "- How to implement the svm algorithm with sklearn\n",
    "  - How to set kernel to \"linear\", \"poly\", \"rbf\"\n",
    "  - How to set the C. (inverse of regularization)\n",
    "  - How to set the gamma \n",
    "  - How to set degree and coef0 for \"poly\" kernel\n",
    "- How to set startify when splitting your data using train_test_split from sklearn\n",
    "- How to calculate hinge loss on classification\n",
    "- How to plot decision boundary for multiclassification in 2D\n",
    "  - How to encircle your support vectors from your svm\n",
    "- The easiest way to remove labels of 2 from your input data(X) and targets(y) (Making your problem a binary classification problem)\n",
    "- How to Plot 3D graph that uses a hyperplane to seperate 2 points"
   ]
  },
  {
   "cell_type": "markdown",
   "id": "1306e474-68d4-4581-98af-3d68e6b0c85b",
   "metadata": {},
   "source": [
    "## Below is our sample data for the demonstration (Dimensionality Reduction)"
   ]
  },
  {
   "cell_type": "code",
   "execution_count": 2,
   "id": "da7675d0-ded6-4a1e-84f2-0774a41150b4",
   "metadata": {},
   "outputs": [
    {
     "data": {
      "text/html": [
       "<div>\n",
       "<style scoped>\n",
       "    .dataframe tbody tr th:only-of-type {\n",
       "        vertical-align: middle;\n",
       "    }\n",
       "\n",
       "    .dataframe tbody tr th {\n",
       "        vertical-align: top;\n",
       "    }\n",
       "\n",
       "    .dataframe thead th {\n",
       "        text-align: right;\n",
       "    }\n",
       "</style>\n",
       "<table border=\"1\" class=\"dataframe\">\n",
       "  <thead>\n",
       "    <tr style=\"text-align: right;\">\n",
       "      <th></th>\n",
       "      <th>x1</th>\n",
       "      <th>x2</th>\n",
       "      <th>x3</th>\n",
       "      <th>x4</th>\n",
       "      <th>x5</th>\n",
       "      <th>y</th>\n",
       "    </tr>\n",
       "  </thead>\n",
       "  <tbody>\n",
       "    <tr>\n",
       "      <th>0</th>\n",
       "      <td>-1</td>\n",
       "      <td>-1</td>\n",
       "      <td>1</td>\n",
       "      <td>5</td>\n",
       "      <td>7</td>\n",
       "      <td>0</td>\n",
       "    </tr>\n",
       "    <tr>\n",
       "      <th>1</th>\n",
       "      <td>-2</td>\n",
       "      <td>-1</td>\n",
       "      <td>0</td>\n",
       "      <td>9</td>\n",
       "      <td>8</td>\n",
       "      <td>0</td>\n",
       "    </tr>\n",
       "    <tr>\n",
       "      <th>2</th>\n",
       "      <td>1</td>\n",
       "      <td>1</td>\n",
       "      <td>3</td>\n",
       "      <td>6</td>\n",
       "      <td>4</td>\n",
       "      <td>1</td>\n",
       "    </tr>\n",
       "    <tr>\n",
       "      <th>3</th>\n",
       "      <td>2</td>\n",
       "      <td>1</td>\n",
       "      <td>3</td>\n",
       "      <td>4</td>\n",
       "      <td>6</td>\n",
       "      <td>1</td>\n",
       "    </tr>\n",
       "    <tr>\n",
       "      <th>4</th>\n",
       "      <td>-2</td>\n",
       "      <td>-1</td>\n",
       "      <td>0</td>\n",
       "      <td>6</td>\n",
       "      <td>8</td>\n",
       "      <td>0</td>\n",
       "    </tr>\n",
       "    <tr>\n",
       "      <th>5</th>\n",
       "      <td>-2</td>\n",
       "      <td>-9</td>\n",
       "      <td>0</td>\n",
       "      <td>3</td>\n",
       "      <td>7</td>\n",
       "      <td>1</td>\n",
       "    </tr>\n",
       "    <tr>\n",
       "      <th>6</th>\n",
       "      <td>-2</td>\n",
       "      <td>-4</td>\n",
       "      <td>0</td>\n",
       "      <td>7</td>\n",
       "      <td>7</td>\n",
       "      <td>1</td>\n",
       "    </tr>\n",
       "    <tr>\n",
       "      <th>7</th>\n",
       "      <td>-5</td>\n",
       "      <td>-1</td>\n",
       "      <td>0</td>\n",
       "      <td>5</td>\n",
       "      <td>8</td>\n",
       "      <td>1</td>\n",
       "    </tr>\n",
       "    <tr>\n",
       "      <th>8</th>\n",
       "      <td>-2</td>\n",
       "      <td>-1</td>\n",
       "      <td>0</td>\n",
       "      <td>3</td>\n",
       "      <td>7</td>\n",
       "      <td>0</td>\n",
       "    </tr>\n",
       "    <tr>\n",
       "      <th>9</th>\n",
       "      <td>-2</td>\n",
       "      <td>-1</td>\n",
       "      <td>7</td>\n",
       "      <td>3</td>\n",
       "      <td>7</td>\n",
       "      <td>0</td>\n",
       "    </tr>\n",
       "    <tr>\n",
       "      <th>10</th>\n",
       "      <td>-4</td>\n",
       "      <td>-1</td>\n",
       "      <td>5</td>\n",
       "      <td>3</td>\n",
       "      <td>9</td>\n",
       "      <td>0</td>\n",
       "    </tr>\n",
       "    <tr>\n",
       "      <th>11</th>\n",
       "      <td>1</td>\n",
       "      <td>2</td>\n",
       "      <td>6</td>\n",
       "      <td>7</td>\n",
       "      <td>9</td>\n",
       "      <td>1</td>\n",
       "    </tr>\n",
       "  </tbody>\n",
       "</table>\n",
       "</div>"
      ],
      "text/plain": [
       "    x1  x2  x3  x4  x5  y\n",
       "0   -1  -1   1   5   7  0\n",
       "1   -2  -1   0   9   8  0\n",
       "2    1   1   3   6   4  1\n",
       "3    2   1   3   4   6  1\n",
       "4   -2  -1   0   6   8  0\n",
       "5   -2  -9   0   3   7  1\n",
       "6   -2  -4   0   7   7  1\n",
       "7   -5  -1   0   5   8  1\n",
       "8   -2  -1   0   3   7  0\n",
       "9   -2  -1   7   3   7  0\n",
       "10  -4  -1   5   3   9  0\n",
       "11   1   2   6   7   9  1"
      ]
     },
     "execution_count": 2,
     "metadata": {},
     "output_type": "execute_result"
    }
   ],
   "source": [
    "import numpy as np\n",
    "import pandas as pd\n",
    "\n",
    "X_clf = np.array([[-1, -1, 1, 5, 7], [-2, -1, 0, 9, 8], [1, 1, 3, 6, 4], [2, 1, 3, 4, 6], [-2, -1, 0, 6, 8], [-2, -9, 0, 3, 7],[-2, -4, 0, 7, 7], [-5, -1, 0, 5, 8], [-2, -1, 0, 3, 7], [-2, -1, 7, 3, 7], [-4, -1, 5, 3, 9], [1, 2, 6, 7, 9]])\n",
    "Y_clf = np.array([0, 0, 1, 1, 0, 1, 1, 1, 0, 0, 0, 1])\n",
    "X_y_df_clf = pd.DataFrame(np.array(np.transpose([X_clf[:,0], X_clf[:,1],X_clf[:,2], X_clf[:,3], X_clf[:,4], Y_clf])), columns=[\"x1\", \"x2\", \"x3\", \"x4\", \"x5\", \"y\"])\n",
    "X_y_df_clf"
   ]
  },
  {
   "cell_type": "markdown",
   "id": "8397ca7b-35dc-452d-a565-6731c5f580d5",
   "metadata": {},
   "source": [
    "***Note***: Here I am selecting the first 2 features from my dataset\n",
    "  - WHEN YOU ARE PLOTTING YOUR 2D GRAPH YOUR FEATURES MUST COME FROM FEATURE SELECTION\n",
    "  - WHEN YOU ARE PLOTTING YOUR 3D GRAPH, YOU SHOULD SELECT THE FIRST 3 FEATURES THE WAY I AM SELECTING MINE BELOW"
   ]
  },
  {
   "cell_type": "code",
   "execution_count": 3,
   "id": "1f01a9b8-dcfb-4910-9751-c4148da441ff",
   "metadata": {},
   "outputs": [],
   "source": [
    "X_clf_2D = X_clf[:,:2]\n",
    "X_new_3d = X_clf[:,:3]"
   ]
  },
  {
   "cell_type": "markdown",
   "id": "f691b0d4-027b-43e0-b3da-18cb694381b3",
   "metadata": {},
   "source": [
    "## How to implement the svm algorithm with sklearn\n",
    "- How to set linear kernel\n",
    "- How to set C (Inverse of regularization)"
   ]
  },
  {
   "cell_type": "code",
   "execution_count": 4,
   "id": "bf41d5ae-fa92-4d45-8f79-9441f29d8820",
   "metadata": {},
   "outputs": [],
   "source": [
    "from sklearn.svm import SVC\n",
    "\n",
    "model = SVC(kernel='linear', C=1.0)"
   ]
  },
  {
   "cell_type": "markdown",
   "id": "cbe6b0a8-9e59-4311-83f1-9cf2793ab9d9",
   "metadata": {},
   "source": [
    "***kernel:*** This is the kernel that will be used for the svm <br>\n",
    "***C***: Regularization parameter. The strength of the regularization is inversely proportional to C. Must be strictly positive."
   ]
  },
  {
   "cell_type": "markdown",
   "id": "6623e36e-622b-45ba-a38a-a8368121b1b3",
   "metadata": {},
   "source": [
    "- How to set poly kernel\n",
    "    - How to set degree and coef0 and gamma"
   ]
  },
  {
   "cell_type": "code",
   "execution_count": 5,
   "id": "c4cfdfd0-34a7-45ad-bad1-5068af0b1373",
   "metadata": {},
   "outputs": [],
   "source": [
    "model = SVC(kernel='poly', C=1.0, degree=3, coef0=0.0, gamma=\"scale\")\n",
    "clf = model.fit(X_clf_2D, Y_clf)"
   ]
  },
  {
   "cell_type": "markdown",
   "id": "3f326144-4d5b-404c-a58a-bf7d4e286354",
   "metadata": {},
   "source": [
    "***degree***: Degree of the polynomial kernel function (‘poly’). Ignored by all other kernels. It is d in (axb+r)^d<br>\n",
    "***coef0***:  Independent term in kernel function. It is only significant in ‘poly’ and ‘sigmoid’.(But we are not using sigmoid in this lab). It is r in (axb+r)^d"
   ]
  },
  {
   "cell_type": "markdown",
   "id": "f965769e-1f3f-4a15-96f1-7926bd5e9f42",
   "metadata": {},
   "source": [
    "- How to set rbf kernel"
   ]
  },
  {
   "cell_type": "code",
   "execution_count": 6,
   "id": "697d363a-8162-4113-a373-42ec0cfaeac5",
   "metadata": {},
   "outputs": [],
   "source": [
    "model = SVC(kernel='rbf', C=1.0, gamma=\"scale\")\n",
    "clf = model.fit(X_clf_2D, Y_clf)"
   ]
  },
  {
   "cell_type": "markdown",
   "id": "71bdc0b3-fd8d-4f1d-8b96-e2708326cedc",
   "metadata": {},
   "source": [
    "## How to set startify when splitting your data using train_test_split from sklearn"
   ]
  },
  {
   "cell_type": "code",
   "execution_count": 7,
   "id": "d858309a-efb1-4c68-b5b2-bf8bd7979407",
   "metadata": {},
   "outputs": [],
   "source": [
    "from sklearn.model_selection import train_test_split\n",
    "\n",
    "X_train, X_test, y_train, y_test = train_test_split(X_clf_2D, Y_clf, test_size=0.25, random_state=0, stratify=Y_clf)"
   ]
  },
  {
   "cell_type": "code",
   "execution_count": 8,
   "id": "045cd181-f181-4752-8b61-0a95a5ba55f1",
   "metadata": {},
   "outputs": [
    {
     "name": "stdout",
     "output_type": "stream",
     "text": [
      "Training examples target classes: [1 1 0 1 0 0 0 1 1]\n"
     ]
    }
   ],
   "source": [
    "print(f\"Training examples target classes: {y_train}\")"
   ]
  },
  {
   "cell_type": "code",
   "execution_count": 9,
   "id": "875737d5-cc61-4214-a0b3-7f25fec9b811",
   "metadata": {},
   "outputs": [
    {
     "name": "stdout",
     "output_type": "stream",
     "text": [
      "Testing examples target classes: [1 0 0]\n"
     ]
    }
   ],
   "source": [
    "print(f\"Testing examples target classes: {y_test}\")"
   ]
  },
  {
   "cell_type": "markdown",
   "id": "a767a6f8-cd43-4ced-a8cb-01e76238ea72",
   "metadata": {},
   "source": [
    "Stratify tries to ensure that you get balanced classes in your training and test sets from your split"
   ]
  },
  {
   "cell_type": "markdown",
   "id": "1c35cce2-7656-4dd0-8044-6faab9324e90",
   "metadata": {},
   "source": [
    "## How to calculate hinge loss on classification"
   ]
  },
  {
   "cell_type": "code",
   "execution_count": 10,
   "id": "ac17185d-4b0b-47d4-95f3-666642c9263a",
   "metadata": {},
   "outputs": [
    {
     "name": "stdout",
     "output_type": "stream",
     "text": [
      "Training hinge loss: 6.874809775019802e-05\n"
     ]
    }
   ],
   "source": [
    "from sklearn.metrics import  hinge_loss\n",
    "\n",
    "hinge_loss_train = hinge_loss(y_train, clf.decision_function(X_train))\n",
    "\n",
    "print(f\"Training hinge loss: {hinge_loss_train}\")"
   ]
  },
  {
   "cell_type": "markdown",
   "id": "580ade3e-bb94-4682-bffe-104398cc649d",
   "metadata": {},
   "source": [
    "## How to plot decision boundary for multiclassification in 2D\n",
    "- How to encircle your support vectors from your svm"
   ]
  },
  {
   "cell_type": "code",
   "execution_count": 11,
   "id": "ef872b45-8d78-4d93-a542-710034bdfc2a",
   "metadata": {},
   "outputs": [
    {
     "name": "stderr",
     "output_type": "stream",
     "text": [
      "No artists with labels found to put in legend.  Note that artists whose label start with an underscore are ignored when legend() is called with no argument.\n"
     ]
    },
    {
     "data": {
      "image/png": "[encoded data removed]",
      "text/plain": [
       "<Figure size 640x480 with 1 Axes>"
      ]
     },
     "metadata": {},
     "output_type": "display_data"
    }
   ],
   "source": [
    "import numpy as np\n",
    "import matplotlib.pyplot as plt\n",
    "\n",
    "def make_meshgrid(x, y, h=.02):\n",
    "    x_min, x_max = x.min() - 1, x.max() + 1\n",
    "    y_min, y_max = y.min() - 1, y.max() + 1\n",
    "    xx, yy = np.meshgrid(np.arange(x_min, x_max, h), np.arange(y_min, y_max, h))\n",
    "    return xx, yy\n",
    "\n",
    "def plot_contours(ax, clf, xx, yy, **params):\n",
    "    Z = clf.predict(np.c_[xx.ravel(), yy.ravel()])\n",
    "    Z = Z.reshape(xx.shape)\n",
    "    out = ax.contourf(xx, yy, Z, **params)\n",
    "    return out\n",
    "\n",
    "fig, ax = plt.subplots()\n",
    "# title for the plots\n",
    "title = ('Decision surface of linear SVC ')\n",
    "# Set-up grid for plotting.\n",
    "X0, X1 = X_train[:, 0], X_train[:, 1]\n",
    "xx, yy = make_meshgrid(X0, X1)\n",
    "\n",
    "\n",
    "\n",
    "plot_contours(ax, clf, xx, yy, cmap=plt.cm.coolwarm, alpha=0.8)\n",
    "ax.scatter(X0, X1, c=y_train, cmap=plt.cm.coolwarm, s=20, edgecolors='k')\n",
    "\n",
    "# Encircle support vectors\n",
    "plt.scatter(model.support_vectors_[:, 0],\n",
    "            model.support_vectors_[:, 1], \n",
    "            s=50, \n",
    "            facecolors='none', \n",
    "            edgecolors='yellow', \n",
    "            alpha=.5)\n",
    "ax.set_ylabel(f'{iris_df.iloc[:, 1].name}')\n",
    "ax.set_xlabel(f'{iris_df.iloc[:, 0].name}')\n",
    "ax.set_xticks(())\n",
    "ax.set_yticks(())\n",
    "ax.set_title(title)\n",
    "ax.legend()\n",
    "plt.show()"
   ]
  },
  {
   "cell_type": "markdown",
   "id": "bcfbfe25-8556-4320-924a-f53e56733b25",
   "metadata": {},
   "source": [
    "***Note:*** I have also added the code for encircling the support vectors above"
   ]
  },
  {
   "cell_type": "markdown",
   "id": "ed99f3da-3037-44e9-9698-4e13535592b8",
   "metadata": {},
   "source": [
    "## The easiest way to remove labels of 2 from your input data(X) and targets(y) (Making your problem a binary classification problem)"
   ]
  },
  {
   "cell_type": "code",
   "execution_count": 12,
   "id": "a81d5b8b-751d-4d08-b9ad-de2515996394",
   "metadata": {},
   "outputs": [],
   "source": [
    "import copy\n",
    "\n",
    "#make it binary classification problem\n",
    "y_new_3d = copy.deepcopy(Y_clf)\n",
    "X_new_3d = X_new_3d[np.logical_or(Y_clf==0,Y_clf==1)]\n",
    "y_new_3d = y_new_3d[np.logical_or(Y_clf==0,Y_clf==1)]"
   ]
  },
  {
   "cell_type": "markdown",
   "id": "5949f08a-9e7c-4b38-85c3-aa5763cb1b77",
   "metadata": {},
   "source": [
    "What I am doing here is picking only classes with 0 or 1 as labels. It does not make much sense for me here since I have only 2 classes with labels 0 and 1. However when you are implementing this. It should filter out all your classes with label=2"
   ]
  },
  {
   "cell_type": "markdown",
   "id": "624e5cd9-fc98-4989-8d51-23369d6b7afe",
   "metadata": {},
   "source": [
    "## How to Plot 3D graph that uses a hyperplane to seperate 2 points"
   ]
  },
  {
   "cell_type": "code",
   "execution_count": 13,
   "id": "8320a3b8-50c4-49ff-8aa8-fac7e134f7cd",
   "metadata": {},
   "outputs": [],
   "source": [
    "X_train_3d, X_test_3d, y_train_3d, y_test_3d = train_test_split(X_new_3d, y_new_3d, test_size=0.25, random_state=0)"
   ]
  },
  {
   "cell_type": "markdown",
   "id": "9142e41e-0614-40e8-b470-317610478f77",
   "metadata": {},
   "source": [
    "Notice here while splitting the data for binary classification, I do not use stratify. That is because I do not have enough examples to have it make sense. You on the other hand **MUST** use stratify when splitting your data for the 3d graph"
   ]
  },
  {
   "cell_type": "code",
   "execution_count": 14,
   "id": "787dc5ef-42cf-4174-ae0b-4f419bcbd5ff",
   "metadata": {},
   "outputs": [],
   "source": [
    "model = SVC(C=1, kernel='linear')\n",
    "clf = model.fit(X_train_3d, y_train_3d)"
   ]
  },
  {
   "cell_type": "markdown",
   "id": "c11ceae0-3c09-4cda-aa93-f86804fed278",
   "metadata": {},
   "source": [
    "Notice here I am fitting the model on the binary classification problem"
   ]
  },
  {
   "cell_type": "code",
   "execution_count": 15,
   "id": "25ca414a-9886-43db-9ba2-3c717d4448a4",
   "metadata": {},
   "outputs": [
    {
     "data": {
      "image/png": "[encoded data removed]",
      "text/plain": [
       "<Figure size 640x480 with 1 Axes>"
      ]
     },
     "metadata": {},
     "output_type": "display_data"
    }
   ],
   "source": [
    "from mpl_toolkits.mplot3d import Axes3D\n",
    "\n",
    "# The equation of the separating plane is given by all x so that np.dot(svc.coef_[0], x) + b = 0.\n",
    "# Solve for w3 (z)\n",
    "z = lambda x,y: (-clf.intercept_[0]-clf.coef_[0][0]*x -clf.coef_[0][1]*y) / clf.coef_[0][2]\n",
    "\n",
    "tmp = np.linspace(-5,5,30)\n",
    "x,y = np.meshgrid(tmp,tmp)\n",
    "\n",
    "fig = plt.figure()\n",
    "ax  = fig.add_subplot(111, projection='3d')\n",
    "ax.plot3D(X_train_3d[y_train_3d==0,0], X_train_3d[y_train_3d==0,1], X_train_3d[y_train_3d==0,2],'ob')\n",
    "ax.plot3D(X_train_3d[y_train_3d==1,0], X_train_3d[y_train_3d==1,1], X_train_3d[y_train_3d==1,2],'sr')\n",
    "ax.plot_surface(x, y, z(x,y))\n",
    "ax.view_init(30, 60)\n",
    "plt.show()"
   ]
  },
  {
   "cell_type": "code",
   "execution_count": 16,
   "id": "6d6ba93c-0c21-4ee1-942d-8ba7ad11b284",
   "metadata": {},
   "outputs": [
    {
     "name": "stdout",
     "output_type": "stream",
     "text": [
      "Training hinge loss: 0.5695442150937753\n"
     ]
    }
   ],
   "source": [
    "from sklearn.metrics import  hinge_loss\n",
    "\n",
    "hinge_loss_test = hinge_loss(y_train_3d, clf.decision_function(X_train_3d))\n",
    "\n",
    "print(f\"Training hinge loss: {hinge_loss_test}\")"
   ]
  },
  {
   "cell_type": "markdown",
   "id": "e706f1a2-6f12-468b-b81e-724afa34430d",
   "metadata": {},
   "source": [
    "Here I am calculating the loss on the test set from the split of my binary classification problem"
   ]
  },
  {
   "cell_type": "markdown",
   "id": "6d79bee8-a219-4cb2-8e6c-b8f9ec97afa1",
   "metadata": {},
   "source": [
    "# Conclusion\n",
    "So after you completed the lab, did you notice a few things?\n",
    "For instance:\n",
    "  - Did you notice that the encircled support vectors were usually closest to the decision boundary\n",
    "  - Did you notice that When we set C really small, we underfit and almost every value in our dataset became a support vector\n",
    "    - Did you notice the really bad accuracy and loss we got for both 3d(Binary classification with 3 features) and 2d(Multiclass classification with 2 features)?\n",
    "  - Did you notice that when C was large, we ended up with less support vectors (Hence a stricter margin and decision boundary) \n",
    "  - Did you find the 2d plane in 3d space pretty cool?\n",
    "  - Did you notice that the \"poly\" kernel with degree=2 gave a really weird complex decision boundary but the degree=3 poly kernel gave a slightly curved but better decision boundary despite degree=3 being the more complex function?\n",
    "  - Did you notice that the \"rbf\" kernel gave a decision boundary that solves the problem in an interesting way, with just enough complexity."
   ]
  }
 ],
 "metadata": {
  "kernelspec": {
   "display_name": "Python 3 (ipykernel)",
   "language": "python",
   "name": "python3"
  },
  "language_info": {
   "codemirror_mode": {
    "name": "ipython",
    "version": 3
   },
   "file_extension": ".py",
   "mimetype": "text/x-python",
   "name": "python",
   "nbconvert_exporter": "python",
   "pygments_lexer": "ipython3",
   "version": "3.9.7"
  }
 },
 "nbformat": 4,
 "nbformat_minor": 5
}
